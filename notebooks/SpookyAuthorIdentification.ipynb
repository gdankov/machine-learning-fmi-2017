{
 "cells": [
  {
   "cell_type": "markdown",
   "metadata": {},
   "source": [
    "# Spooky Author Identification\n",
    "\n",
    "![cthulhu](https://i.pinimg.com/originals/2a/9f/54/2a9f54dee6d1368c7e8bacf686c6ea2b.jpg)\n",
    "\n",
    "\n",
    "Целта тук е да се опитаме да предскажем кой от тримата автори (Лъвркафт, Едгар Алан По и Мери Шели) е написал даден текст.\n",
    "\n",
    "Ще се опитам да подобря резултата, представен на [лекцията](http://fmi.machine-learning.bg/lectures/08-spooky-author-identification), използвайки nltk и model stacking.\n"
   ]
  },
  {
   "cell_type": "code",
   "execution_count": 43,
   "metadata": {},
   "outputs": [],
   "source": [
    "import sys\n",
    "\n",
    "import sklearn\n",
    "import pandas as pd\n",
    "import matplotlib as mpl\n",
    "import matplotlib.pyplot as plt\n",
    "import seaborn as sns\n",
    "\n",
    "from sklearn.feature_extraction.text import CountVectorizer, TfidfVectorizer, HashingVectorizer\n",
    "from sklearn.naive_bayes import MultinomialNB\n",
    "\n",
    "import string\n",
    "import nltk\n",
    "from nltk import word_tokenize\n",
    "\n",
    "%matplotlib inline"
   ]
  },
  {
   "cell_type": "markdown",
   "metadata": {},
   "source": [
    "За да използваме nltk, трябва предварително да изтеглим следните неща:"
   ]
  },
  {
   "cell_type": "code",
   "execution_count": 44,
   "metadata": {},
   "outputs": [],
   "source": [
    "# nltk.download('stopwords')\n",
    "# nltk.download('punkt')\n",
    "# nltk.download('tagsets')"
   ]
  },
  {
   "cell_type": "code",
   "execution_count": 45,
   "metadata": {},
   "outputs": [],
   "source": [
    "train = pd.read_csv(\"data/spooky-author/train.zip\", index_col=['id'])\n",
    "test = pd.read_csv(\"data/spooky-author/test.zip\", index_col=['id'])\n",
    "sample_submission = pd.read_csv(\"data/spooky-author/sample_submission.zip\", index_col=['id'])"
   ]
  },
  {
   "cell_type": "code",
   "execution_count": 46,
   "metadata": {
    "scrolled": false
   },
   "outputs": [
    {
     "data": {
      "text/html": [
       "<div>\n",
       "<style>\n",
       "    .dataframe thead tr:only-child th {\n",
       "        text-align: right;\n",
       "    }\n",
       "\n",
       "    .dataframe thead th {\n",
       "        text-align: left;\n",
       "    }\n",
       "\n",
       "    .dataframe tbody tr th {\n",
       "        vertical-align: top;\n",
       "    }\n",
       "</style>\n",
       "<table border=\"1\" class=\"dataframe\">\n",
       "  <thead>\n",
       "    <tr style=\"text-align: right;\">\n",
       "      <th></th>\n",
       "      <th>text</th>\n",
       "      <th>author</th>\n",
       "    </tr>\n",
       "    <tr>\n",
       "      <th>id</th>\n",
       "      <th></th>\n",
       "      <th></th>\n",
       "    </tr>\n",
       "  </thead>\n",
       "  <tbody>\n",
       "    <tr>\n",
       "      <th>id26305</th>\n",
       "      <td>This process, however, afforded me no means of...</td>\n",
       "      <td>EAP</td>\n",
       "    </tr>\n",
       "    <tr>\n",
       "      <th>id17569</th>\n",
       "      <td>It never once occurred to me that the fumbling...</td>\n",
       "      <td>HPL</td>\n",
       "    </tr>\n",
       "    <tr>\n",
       "      <th>id11008</th>\n",
       "      <td>In his left hand was a gold snuff box, from wh...</td>\n",
       "      <td>EAP</td>\n",
       "    </tr>\n",
       "    <tr>\n",
       "      <th>id27763</th>\n",
       "      <td>How lovely is spring As we looked from Windsor...</td>\n",
       "      <td>MWS</td>\n",
       "    </tr>\n",
       "    <tr>\n",
       "      <th>id12958</th>\n",
       "      <td>Finding nothing else, not even gold, the Super...</td>\n",
       "      <td>HPL</td>\n",
       "    </tr>\n",
       "  </tbody>\n",
       "</table>\n",
       "</div>"
      ],
      "text/plain": [
       "                                                      text author\n",
       "id                                                               \n",
       "id26305  This process, however, afforded me no means of...    EAP\n",
       "id17569  It never once occurred to me that the fumbling...    HPL\n",
       "id11008  In his left hand was a gold snuff box, from wh...    EAP\n",
       "id27763  How lovely is spring As we looked from Windsor...    MWS\n",
       "id12958  Finding nothing else, not even gold, the Super...    HPL"
      ]
     },
     "execution_count": 46,
     "metadata": {},
     "output_type": "execute_result"
    }
   ],
   "source": [
    "train.head()"
   ]
  },
  {
   "cell_type": "code",
   "execution_count": 47,
   "metadata": {},
   "outputs": [
    {
     "data": {
      "image/png": "[encoded data removed]",
      "text/plain": [
       "<matplotlib.figure.Figure at 0x7f97e0122ac8>"
      ]
     },
     "metadata": {},
     "output_type": "display_data"
    }
   ],
   "source": [
    "train.author.value_counts().plot.pie(figsize=(8, 8), autopct='%1.1f%%');"
   ]
  },
  {
   "cell_type": "markdown",
   "metadata": {},
   "source": [
    "Първото нещо, което ще пробваме, е да извлечем информация за това колко често авторите използват частите на речта. Тоест ще броим колко пъти се срещат прилагателни, съществителни, глаголи и тн. в текстовете.\n",
    "\n",
    "За целта ще използваме библиотеката nltk. Първо ще сплитнем изреченията по думи, като използваме word_tokenize:"
   ]
  },
  {
   "cell_type": "code",
   "execution_count": 48,
   "metadata": {},
   "outputs": [
    {
     "data": {
      "text/plain": [
       "['This',\n",
       " 'process',\n",
       " ',',\n",
       " 'however',\n",
       " ',',\n",
       " 'afforded',\n",
       " 'me',\n",
       " 'no',\n",
       " 'means',\n",
       " 'of',\n",
       " 'ascertaining',\n",
       " 'the',\n",
       " 'dimensions',\n",
       " 'of',\n",
       " 'my',\n",
       " 'dungeon',\n",
       " ';',\n",
       " 'as',\n",
       " 'I',\n",
       " 'might',\n",
       " 'make',\n",
       " 'its',\n",
       " 'circuit',\n",
       " ',',\n",
       " 'and',\n",
       " 'return',\n",
       " 'to',\n",
       " 'the',\n",
       " 'point',\n",
       " 'whence',\n",
       " 'I',\n",
       " 'set',\n",
       " 'out',\n",
       " ',',\n",
       " 'without',\n",
       " 'being',\n",
       " 'aware',\n",
       " 'of',\n",
       " 'the',\n",
       " 'fact',\n",
       " ';',\n",
       " 'so',\n",
       " 'perfectly',\n",
       " 'uniform',\n",
       " 'seemed',\n",
       " 'the',\n",
       " 'wall',\n",
       " '.']"
      ]
     },
     "execution_count": 48,
     "metadata": {},
     "output_type": "execute_result"
    }
   ],
   "source": [
    "first_sentence = train.iloc[0][0]\n",
    "first_stence_tokenized = word_tokenize(first_sentence)\n",
    "first_stence_tokenized"
   ]
  },
  {
   "cell_type": "markdown",
   "metadata": {},
   "source": [
    "Виждаме, че е включило и препинателните знаци, но това не е проблем за pos tagger-a.\n",
    "\n",
    "След като имаме токените, може да го прекараме през pos_tag. Това ще направи part-of-speech tagging, като за всеки токен (дума), ще предположи каква част на речта е."
   ]
  },
  {
   "cell_type": "code",
   "execution_count": 49,
   "metadata": {
    "scrolled": false
   },
   "outputs": [
    {
     "data": {
      "text/plain": [
       "[('This', 'DT'),\n",
       " ('process', 'NN'),\n",
       " (',', ','),\n",
       " ('however', 'RB'),\n",
       " (',', ','),\n",
       " ('afforded', 'VBD'),\n",
       " ('me', 'PRP'),\n",
       " ('no', 'DT'),\n",
       " ('means', 'NNS'),\n",
       " ('of', 'IN'),\n",
       " ('ascertaining', 'VBG'),\n",
       " ('the', 'DT'),\n",
       " ('dimensions', 'NNS'),\n",
       " ('of', 'IN'),\n",
       " ('my', 'PRP$'),\n",
       " ('dungeon', 'NN'),\n",
       " (';', ':'),\n",
       " ('as', 'IN'),\n",
       " ('I', 'PRP'),\n",
       " ('might', 'MD'),\n",
       " ('make', 'VB'),\n",
       " ('its', 'PRP$'),\n",
       " ('circuit', 'NN'),\n",
       " (',', ','),\n",
       " ('and', 'CC'),\n",
       " ('return', 'NN'),\n",
       " ('to', 'TO'),\n",
       " ('the', 'DT'),\n",
       " ('point', 'NN'),\n",
       " ('whence', 'NN'),\n",
       " ('I', 'PRP'),\n",
       " ('set', 'VBP'),\n",
       " ('out', 'RP'),\n",
       " (',', ','),\n",
       " ('without', 'IN'),\n",
       " ('being', 'VBG'),\n",
       " ('aware', 'JJ'),\n",
       " ('of', 'IN'),\n",
       " ('the', 'DT'),\n",
       " ('fact', 'NN'),\n",
       " (';', ':'),\n",
       " ('so', 'RB'),\n",
       " ('perfectly', 'RB'),\n",
       " ('uniform', 'JJ'),\n",
       " ('seemed', 'VBD'),\n",
       " ('the', 'DT'),\n",
       " ('wall', 'NN'),\n",
       " ('.', '.')]"
      ]
     },
     "execution_count": 49,
     "metadata": {},
     "output_type": "execute_result"
    }
   ],
   "source": [
    "nltk.pos_tag(first_stence_tokenized)"
   ]
  },
  {
   "cell_type": "markdown",
   "metadata": {},
   "source": [
    "За повече информация кой таг какво значи:"
   ]
  },
  {
   "cell_type": "code",
   "execution_count": 50,
   "metadata": {},
   "outputs": [
    {
     "name": "stdout",
     "output_type": "stream",
     "text": [
      "$: dollar\n",
      "    $ -$ --$ A$ C$ HK$ M$ NZ$ S$ U.S.$ US$\n",
      "'': closing quotation mark\n",
      "    ' ''\n",
      "(: opening parenthesis\n",
      "    ( [ {\n",
      "): closing parenthesis\n",
      "    ) ] }\n",
      ",: comma\n",
      "    ,\n",
      "--: dash\n",
      "    --\n",
      ".: sentence terminator\n",
      "    . ! ?\n",
      ":: colon or ellipsis\n",
      "    : ; ...\n",
      "CC: conjunction, coordinating\n",
      "    & 'n and both but either et for less minus neither nor or plus so\n",
      "    therefore times v. versus vs. whether yet\n",
      "CD: numeral, cardinal\n",
      "    mid-1890 nine-thirty forty-two one-tenth ten million 0.5 one forty-\n",
      "    seven 1987 twenty '79 zero two 78-degrees eighty-four IX '60s .025\n",
      "    fifteen 271,124 dozen quintillion DM2,000 ...\n",
      "DT: determiner\n",
      "    all an another any both del each either every half la many much nary\n",
      "    neither no some such that the them these this those\n",
      "EX: existential there\n",
      "    there\n",
      "FW: foreign word\n",
      "    gemeinschaft hund ich jeux habeas Haementeria Herr K'ang-si vous\n",
      "    lutihaw alai je jour objets salutaris fille quibusdam pas trop Monte\n",
      "    terram fiche oui corporis ...\n",
      "IN: preposition or conjunction, subordinating\n",
      "    astride among uppon whether out inside pro despite on by throughout\n",
      "    below within for towards near behind atop around if like until below\n",
      "    next into if beside ...\n",
      "JJ: adjective or numeral, ordinal\n",
      "    third ill-mannered pre-war regrettable oiled calamitous first separable\n",
      "    ectoplasmic battery-powered participatory fourth still-to-be-named\n",
      "    multilingual multi-disciplinary ...\n",
      "JJR: adjective, comparative\n",
      "    bleaker braver breezier briefer brighter brisker broader bumper busier\n",
      "    calmer cheaper choosier cleaner clearer closer colder commoner costlier\n",
      "    cozier creamier crunchier cuter ...\n",
      "JJS: adjective, superlative\n",
      "    calmest cheapest choicest classiest cleanest clearest closest commonest\n",
      "    corniest costliest crassest creepiest crudest cutest darkest deadliest\n",
      "    dearest deepest densest dinkiest ...\n",
      "LS: list item marker\n",
      "    A A. B B. C C. D E F First G H I J K One SP-44001 SP-44002 SP-44005\n",
      "    SP-44007 Second Third Three Two * a b c d first five four one six three\n",
      "    two\n",
      "MD: modal auxiliary\n",
      "    can cannot could couldn't dare may might must need ought shall should\n",
      "    shouldn't will would\n",
      "NN: noun, common, singular or mass\n",
      "    common-carrier cabbage knuckle-duster Casino afghan shed thermostat\n",
      "    investment slide humour falloff slick wind hyena override subhumanity\n",
      "    machinist ...\n",
      "NNP: noun, proper, singular\n",
      "    Motown Venneboerger Czestochwa Ranzer Conchita Trumplane Christos\n",
      "    Oceanside Escobar Kreisler Sawyer Cougar Yvette Ervin ODI Darryl CTCA\n",
      "    Shannon A.K.C. Meltex Liverpool ...\n",
      "NNPS: noun, proper, plural\n",
      "    Americans Americas Amharas Amityvilles Amusements Anarcho-Syndicalists\n",
      "    Andalusians Andes Andruses Angels Animals Anthony Antilles Antiques\n",
      "    Apache Apaches Apocrypha ...\n",
      "NNS: noun, common, plural\n",
      "    undergraduates scotches bric-a-brac products bodyguards facets coasts\n",
      "    divestitures storehouses designs clubs fragrances averages\n",
      "    subjectivists apprehensions muses factory-jobs ...\n",
      "PDT: pre-determiner\n",
      "    all both half many quite such sure this\n",
      "POS: genitive marker\n",
      "    ' 's\n",
      "PRP: pronoun, personal\n",
      "    hers herself him himself hisself it itself me myself one oneself ours\n",
      "    ourselves ownself self she thee theirs them themselves they thou thy us\n",
      "PRP$: pronoun, possessive\n",
      "    her his mine my our ours their thy your\n",
      "RB: adverb\n",
      "    occasionally unabatingly maddeningly adventurously professedly\n",
      "    stirringly prominently technologically magisterially predominately\n",
      "    swiftly fiscally pitilessly ...\n",
      "RBR: adverb, comparative\n",
      "    further gloomier grander graver greater grimmer harder harsher\n",
      "    healthier heavier higher however larger later leaner lengthier less-\n",
      "    perfectly lesser lonelier longer louder lower more ...\n",
      "RBS: adverb, superlative\n",
      "    best biggest bluntest earliest farthest first furthest hardest\n",
      "    heartiest highest largest least less most nearest second tightest worst\n",
      "RP: particle\n",
      "    aboard about across along apart around aside at away back before behind\n",
      "    by crop down ever fast for forth from go high i.e. in into just later\n",
      "    low more off on open out over per pie raising start teeth that through\n",
      "    under unto up up-pp upon whole with you\n",
      "SYM: symbol\n",
      "    % & ' '' ''. ) ). * + ,. < = > @ A[fj] U.S U.S.S.R * ** ***\n",
      "TO: \"to\" as preposition or infinitive marker\n",
      "    to\n",
      "UH: interjection\n",
      "    Goodbye Goody Gosh Wow Jeepers Jee-sus Hubba Hey Kee-reist Oops amen\n",
      "    huh howdy uh dammit whammo shucks heck anyways whodunnit honey golly\n",
      "    man baby diddle hush sonuvabitch ...\n",
      "VB: verb, base form\n",
      "    ask assemble assess assign assume atone attention avoid bake balkanize\n",
      "    bank begin behold believe bend benefit bevel beware bless boil bomb\n",
      "    boost brace break bring broil brush build ...\n",
      "VBD: verb, past tense\n",
      "    dipped pleaded swiped regummed soaked tidied convened halted registered\n",
      "    cushioned exacted snubbed strode aimed adopted belied figgered\n",
      "    speculated wore appreciated contemplated ...\n",
      "VBG: verb, present participle or gerund\n",
      "    telegraphing stirring focusing angering judging stalling lactating\n",
      "    hankerin' alleging veering capping approaching traveling besieging\n",
      "    encrypting interrupting erasing wincing ...\n",
      "VBN: verb, past participle\n",
      "    multihulled dilapidated aerosolized chaired languished panelized used\n",
      "    experimented flourished imitated reunifed factored condensed sheared\n",
      "    unsettled primed dubbed desired ...\n",
      "VBP: verb, present tense, not 3rd person singular\n",
      "    predominate wrap resort sue twist spill cure lengthen brush terminate\n",
      "    appear tend stray glisten obtain comprise detest tease attract\n",
      "    emphasize mold postpone sever return wag ...\n",
      "VBZ: verb, present tense, 3rd person singular\n",
      "    bases reconstructs marks mixes displeases seals carps weaves snatches\n",
      "    slumps stretches authorizes smolders pictures emerges stockpiles\n",
      "    seduces fizzes uses bolsters slaps speaks pleads ...\n",
      "WDT: WH-determiner\n",
      "    that what whatever which whichever\n",
      "WP: WH-pronoun\n",
      "    that what whatever whatsoever which who whom whosoever\n",
      "WP$: WH-pronoun, possessive\n",
      "    whose\n",
      "WRB: Wh-adverb\n",
      "    how however whence whenever where whereby whereever wherein whereof why\n",
      "``: opening quotation mark\n",
      "    ` ``\n"
     ]
    }
   ],
   "source": [
    "nltk.help.upenn_tagset()"
   ]
  },
  {
   "cell_type": "markdown",
   "metadata": {},
   "source": [
    "Ще извлечем броя на:\n",
    "* съществителните\n",
    "* прилагателните\n",
    "* глаголите\n",
    "* наречията\n",
    "* съюзите\n",
    "* чужди думи.\n",
    "\n",
    "За целта, ще си дефинираме списъци от таговете, които отговарят за всеки от тях."
   ]
  },
  {
   "cell_type": "code",
   "execution_count": 51,
   "metadata": {},
   "outputs": [],
   "source": [
    "NOUN_TAGS = ['NN','NNP','NNPS','NNS']\n",
    "ADJECTIVE_TAGS = ['JJ','JJR','JJS']\n",
    "VERB_TAGS = ['VB','VBD','VBG', 'VBN', 'VBP', 'VBZ']\n",
    "ADVERB_TAGS = ['RB','RBR','RBS']\n",
    "CONJUNCTION_TAGS = ['CC']\n",
    "FOREIGN_WORD_TAGS = ['FW']"
   ]
  },
  {
   "cell_type": "markdown",
   "metadata": {},
   "source": [
    "И функции, които ги използват:"
   ]
  },
  {
   "cell_type": "code",
   "execution_count": 52,
   "metadata": {},
   "outputs": [],
   "source": [
    "def count_pos(text, tags):\n",
    "    tokenized = word_tokenize(text)\n",
    "    pos_tagged = nltk.pos_tag(tokenized)\n",
    "    return sum([tag in tags for word, tag in pos_tagged])\n",
    "\n",
    "def count_nouns(text):\n",
    "    return count_pos(text, NOUN_TAGS)\n",
    "\n",
    "def count_adjectives(text):\n",
    "    return count_pos(text, ADJECTIVE_TAGS)\n",
    "\n",
    "def count_verbs(text):\n",
    "    return count_pos(text, VERB_TAGS)\n",
    "\n",
    "def count_adverbs(text):\n",
    "    return count_pos(text, ADVERB_TAGS)\n",
    "\n",
    "def count_conjunctions(text):\n",
    "    return count_pos(text, CONJUNCTION_TAGS)\n",
    "\n",
    "def count_foreign_words(text):\n",
    "    return count_pos(text, FOREIGN_WORD_TAGS)"
   ]
  },
  {
   "cell_type": "markdown",
   "metadata": {},
   "source": [
    "**NB:** Тази част отнема известно време."
   ]
  },
  {
   "cell_type": "code",
   "execution_count": 53,
   "metadata": {},
   "outputs": [],
   "source": [
    "explore_pos = train.copy()\n",
    "\n",
    "explore_pos['nouns_count'] = train.text.apply(count_nouns)\n",
    "explore_pos['adjectives_count'] = train.text.apply(count_adjectives)\n",
    "explore_pos['verbs_count'] = train.text.apply(count_verbs)\n",
    "explore_pos['adverbs_count'] = train.text.apply(count_adverbs)\n",
    "explore_pos['conjuncions_count'] = train.text.apply(count_conjunctions)\n",
    "explore_pos['foreign_words_count'] = train.text.apply(count_foreign_words)"
   ]
  },
  {
   "cell_type": "code",
   "execution_count": 54,
   "metadata": {},
   "outputs": [
    {
     "data": {
      "text/plain": [
       "['verbs_count',\n",
       " 'foreign_words_count',\n",
       " 'adjectives_count',\n",
       " 'conjuncions_count',\n",
       " 'adverbs_count',\n",
       " 'nouns_count']"
      ]
     },
     "execution_count": 54,
     "metadata": {},
     "output_type": "execute_result"
    }
   ],
   "source": [
    "features_names = list(set(explore_pos.columns) - {'text', 'author'})\n",
    "features_names"
   ]
  },
  {
   "cell_type": "code",
   "execution_count": 55,
   "metadata": {},
   "outputs": [
    {
     "data": {
      "image/png": "[encoded data removed]",
      "text/plain": [
       "<matplotlib.figure.Figure at 0x7f97d3db4f98>"
      ]
     },
     "metadata": {},
     "output_type": "display_data"
    },
    {
     "data": {
      "image/png": "[encoded data removed]",
      "text/plain": [
       "<matplotlib.figure.Figure at 0x7f97d3d7cbe0>"
      ]
     },
     "metadata": {},
     "output_type": "display_data"
    },
    {
     "data": {
      "image/png": "[encoded data removed]",
      "text/plain": [
       "<matplotlib.figure.Figure at 0x7f97d3d0dbe0>"
      ]
     },
     "metadata": {},
     "output_type": "display_data"
    },
    {
     "data": {
      "image/png": "[encoded data removed]",
      "text/plain": [
       "<matplotlib.figure.Figure at 0x7f97e2a9a8d0>"
      ]
     },
     "metadata": {},
     "output_type": "display_data"
    },
    {
     "data": {
      "image/png": "[encoded data removed]",
      "text/plain": [
       "<matplotlib.figure.Figure at 0x7f97d3bfaa90>"
      ]
     },
     "metadata": {},
     "output_type": "display_data"
    },
    {
     "data": {
      "image/png": "[encoded data removed]",
      "text/plain": [
       "<matplotlib.figure.Figure at 0x7f97d3b4bc18>"
      ]
     },
     "metadata": {},
     "output_type": "display_data"
    }
   ],
   "source": [
    "for feature in features_names:\n",
    "    plt.figure()\n",
    "    sns.violinplot(x=feature, y=\"author\", data=explore_pos)\n",
    "    plt.title(feature);"
   ]
  },
  {
   "cell_type": "code",
   "execution_count": 56,
   "metadata": {
    "scrolled": false
   },
   "outputs": [
    {
     "data": {
      "text/plain": [
       "EAP    99\n",
       "HPL    22\n",
       "MWS    12\n",
       "Name: author, dtype: int64"
      ]
     },
     "execution_count": 56,
     "metadata": {},
     "output_type": "execute_result"
    }
   ],
   "source": [
    "explore_pos.loc[explore_pos['foreign_words_count'] > 0, 'author'].value_counts()"
   ]
  },
  {
   "cell_type": "markdown",
   "metadata": {},
   "source": [
    "Виждат се леки разлики при различните автори, особено при използването на чуждите думи. Все пак оставим и останалите, може да ни помогнат при класификацията.\n",
    "\n",
    "Ще добавим и още малко данни за текстовете, като брой на уникални думи, пунктуация, stop words и тн.\n",
    "\n",
    "За броене на stop words и отделяне на изреченията отново използвам nltk."
   ]
  },
  {
   "cell_type": "code",
   "execution_count": 57,
   "metadata": {},
   "outputs": [],
   "source": [
    "tokenizer = nltk.data.load('tokenizers/punkt/english.pickle')\n",
    "stopwords = nltk.corpus.stopwords.words('english')\n",
    "\n",
    "def get_text_metadata(df):\n",
    "    explore = df.copy()\n",
    "    \n",
    "    explore['average_word_length'] = explore.text.apply(lambda s: pd.np.mean([len(w) for w in str(s).split()]))\n",
    "    explore['unique_words'] = explore.text.apply(lambda s: len(set(str(s).split())))\n",
    "    explore['words_occuring_twice'] = explore.text.apply(lambda s: sum([s.count(w) == 2 for w in str(s).split()]))\n",
    "    explore[\"punctuation\"] = explore.text.apply(lambda s: sum([c in string.punctuation for c in str(s)]) )\n",
    "    explore[\"words_starting_with_capital\"] = explore.text.apply(lambda s: sum([w[0].isupper() for w in str(s).split()]))\n",
    "    explore[\"quotes\"] = explore.text.apply(lambda s: s.count('\"'))\n",
    "\n",
    "    explore['words_per_sentence'] = explore.text.apply(lambda text: pd.np.mean([len(str(sentence).split()) for sentence in tokenizer.tokenize(text)]))\n",
    "    explore['stop_words'] = explore.text.apply(lambda s: sum(w in stopwords for w in str(s).split()))\n",
    "    \n",
    "    return explore"
   ]
  },
  {
   "cell_type": "code",
   "execution_count": 58,
   "metadata": {},
   "outputs": [
    {
     "data": {
      "text/html": [
       "<div>\n",
       "<style>\n",
       "    .dataframe thead tr:only-child th {\n",
       "        text-align: right;\n",
       "    }\n",
       "\n",
       "    .dataframe thead th {\n",
       "        text-align: left;\n",
       "    }\n",
       "\n",
       "    .dataframe tbody tr th {\n",
       "        vertical-align: top;\n",
       "    }\n",
       "</style>\n",
       "<table border=\"1\" class=\"dataframe\">\n",
       "  <thead>\n",
       "    <tr style=\"text-align: right;\">\n",
       "      <th></th>\n",
       "      <th>text</th>\n",
       "      <th>author</th>\n",
       "      <th>average_word_length</th>\n",
       "      <th>unique_words</th>\n",
       "      <th>words_occuring_twice</th>\n",
       "      <th>punctuation</th>\n",
       "      <th>words_starting_with_capital</th>\n",
       "      <th>quotes</th>\n",
       "      <th>words_per_sentence</th>\n",
       "      <th>stop_words</th>\n",
       "    </tr>\n",
       "    <tr>\n",
       "      <th>id</th>\n",
       "      <th></th>\n",
       "      <th></th>\n",
       "      <th></th>\n",
       "      <th></th>\n",
       "      <th></th>\n",
       "      <th></th>\n",
       "      <th></th>\n",
       "      <th></th>\n",
       "      <th></th>\n",
       "      <th></th>\n",
       "    </tr>\n",
       "  </thead>\n",
       "  <tbody>\n",
       "    <tr>\n",
       "      <th>id26305</th>\n",
       "      <td>This process, however, afforded me no means of...</td>\n",
       "      <td>EAP</td>\n",
       "      <td>4.658537</td>\n",
       "      <td>35</td>\n",
       "      <td>3</td>\n",
       "      <td>7</td>\n",
       "      <td>3</td>\n",
       "      <td>0</td>\n",
       "      <td>41.0</td>\n",
       "      <td>16</td>\n",
       "    </tr>\n",
       "    <tr>\n",
       "      <th>id17569</th>\n",
       "      <td>It never once occurred to me that the fumbling...</td>\n",
       "      <td>HPL</td>\n",
       "      <td>4.142857</td>\n",
       "      <td>14</td>\n",
       "      <td>1</td>\n",
       "      <td>1</td>\n",
       "      <td>1</td>\n",
       "      <td>0</td>\n",
       "      <td>14.0</td>\n",
       "      <td>7</td>\n",
       "    </tr>\n",
       "    <tr>\n",
       "      <th>id11008</th>\n",
       "      <td>In his left hand was a gold snuff box, from wh...</td>\n",
       "      <td>EAP</td>\n",
       "      <td>4.583333</td>\n",
       "      <td>32</td>\n",
       "      <td>6</td>\n",
       "      <td>5</td>\n",
       "      <td>1</td>\n",
       "      <td>0</td>\n",
       "      <td>36.0</td>\n",
       "      <td>15</td>\n",
       "    </tr>\n",
       "    <tr>\n",
       "      <th>id27763</th>\n",
       "      <td>How lovely is spring As we looked from Windsor...</td>\n",
       "      <td>MWS</td>\n",
       "      <td>5.088235</td>\n",
       "      <td>32</td>\n",
       "      <td>5</td>\n",
       "      <td>4</td>\n",
       "      <td>4</td>\n",
       "      <td>0</td>\n",
       "      <td>34.0</td>\n",
       "      <td>11</td>\n",
       "    </tr>\n",
       "    <tr>\n",
       "      <th>id12958</th>\n",
       "      <td>Finding nothing else, not even gold, the Super...</td>\n",
       "      <td>HPL</td>\n",
       "      <td>5.481481</td>\n",
       "      <td>25</td>\n",
       "      <td>4</td>\n",
       "      <td>4</td>\n",
       "      <td>2</td>\n",
       "      <td>0</td>\n",
       "      <td>27.0</td>\n",
       "      <td>11</td>\n",
       "    </tr>\n",
       "    <tr>\n",
       "      <th>id22965</th>\n",
       "      <td>A youth passed in solitude, my best years spen...</td>\n",
       "      <td>MWS</td>\n",
       "      <td>4.650602</td>\n",
       "      <td>66</td>\n",
       "      <td>2</td>\n",
       "      <td>6</td>\n",
       "      <td>5</td>\n",
       "      <td>0</td>\n",
       "      <td>83.0</td>\n",
       "      <td>38</td>\n",
       "    </tr>\n",
       "    <tr>\n",
       "      <th>id09674</th>\n",
       "      <td>The astronomer, perhaps, at this point, took r...</td>\n",
       "      <td>EAP</td>\n",
       "      <td>5.142857</td>\n",
       "      <td>21</td>\n",
       "      <td>0</td>\n",
       "      <td>5</td>\n",
       "      <td>1</td>\n",
       "      <td>0</td>\n",
       "      <td>21.0</td>\n",
       "      <td>8</td>\n",
       "    </tr>\n",
       "    <tr>\n",
       "      <th>id13515</th>\n",
       "      <td>The surcingle hung in ribands from my body.</td>\n",
       "      <td>EAP</td>\n",
       "      <td>4.500000</td>\n",
       "      <td>8</td>\n",
       "      <td>1</td>\n",
       "      <td>1</td>\n",
       "      <td>1</td>\n",
       "      <td>0</td>\n",
       "      <td>8.0</td>\n",
       "      <td>3</td>\n",
       "    </tr>\n",
       "    <tr>\n",
       "      <th>id19322</th>\n",
       "      <td>I knew that you could not say to yourself 'ste...</td>\n",
       "      <td>EAP</td>\n",
       "      <td>4.556818</td>\n",
       "      <td>62</td>\n",
       "      <td>6</td>\n",
       "      <td>11</td>\n",
       "      <td>7</td>\n",
       "      <td>0</td>\n",
       "      <td>88.0</td>\n",
       "      <td>41</td>\n",
       "    </tr>\n",
       "    <tr>\n",
       "      <th>id00912</th>\n",
       "      <td>I confess that neither the structure of langua...</td>\n",
       "      <td>MWS</td>\n",
       "      <td>5.304348</td>\n",
       "      <td>18</td>\n",
       "      <td>2</td>\n",
       "      <td>3</td>\n",
       "      <td>1</td>\n",
       "      <td>0</td>\n",
       "      <td>23.0</td>\n",
       "      <td>10</td>\n",
       "    </tr>\n",
       "  </tbody>\n",
       "</table>\n",
       "</div>"
      ],
      "text/plain": [
       "                                                      text author  \\\n",
       "id                                                                  \n",
       "id26305  This process, however, afforded me no means of...    EAP   \n",
       "id17569  It never once occurred to me that the fumbling...    HPL   \n",
       "id11008  In his left hand was a gold snuff box, from wh...    EAP   \n",
       "id27763  How lovely is spring As we looked from Windsor...    MWS   \n",
       "id12958  Finding nothing else, not even gold, the Super...    HPL   \n",
       "id22965  A youth passed in solitude, my best years spen...    MWS   \n",
       "id09674  The astronomer, perhaps, at this point, took r...    EAP   \n",
       "id13515        The surcingle hung in ribands from my body.    EAP   \n",
       "id19322  I knew that you could not say to yourself 'ste...    EAP   \n",
       "id00912  I confess that neither the structure of langua...    MWS   \n",
       "\n",
       "         average_word_length  unique_words  words_occuring_twice  punctuation  \\\n",
       "id                                                                              \n",
       "id26305             4.658537            35                     3            7   \n",
       "id17569             4.142857            14                     1            1   \n",
       "id11008             4.583333            32                     6            5   \n",
       "id27763             5.088235            32                     5            4   \n",
       "id12958             5.481481            25                     4            4   \n",
       "id22965             4.650602            66                     2            6   \n",
       "id09674             5.142857            21                     0            5   \n",
       "id13515             4.500000             8                     1            1   \n",
       "id19322             4.556818            62                     6           11   \n",
       "id00912             5.304348            18                     2            3   \n",
       "\n",
       "         words_starting_with_capital  quotes  words_per_sentence  stop_words  \n",
       "id                                                                            \n",
       "id26305                            3       0                41.0          16  \n",
       "id17569                            1       0                14.0           7  \n",
       "id11008                            1       0                36.0          15  \n",
       "id27763                            4       0                34.0          11  \n",
       "id12958                            2       0                27.0          11  \n",
       "id22965                            5       0                83.0          38  \n",
       "id09674                            1       0                21.0           8  \n",
       "id13515                            1       0                 8.0           3  \n",
       "id19322                            7       0                88.0          41  \n",
       "id00912                            1       0                23.0          10  "
      ]
     },
     "execution_count": 58,
     "metadata": {},
     "output_type": "execute_result"
    }
   ],
   "source": [
    "get_text_metadata(train).head(10)"
   ]
  },
  {
   "cell_type": "markdown",
   "metadata": {},
   "source": [
    "Да направим функция, която обединява всички трансформации."
   ]
  },
  {
   "cell_type": "code",
   "execution_count": 59,
   "metadata": {},
   "outputs": [],
   "source": [
    "def transform_data(df):\n",
    "    explore = df.copy()\n",
    "\n",
    "    explore['nouns_count'] = explore.text.apply(count_nouns)\n",
    "    explore['adjectives_count'] = explore.text.apply(count_adjectives)\n",
    "    explore['verbs_count'] = explore.text.apply(count_verbs)\n",
    "    explore['adverbs_count'] = explore.text.apply(count_adverbs)\n",
    "    explore['conjuncions_count'] = explore.text.apply(count_conjunctions)\n",
    "    explore['foreign_words_count'] = explore.text.apply(count_foreign_words)\n",
    "\n",
    "    explore = get_text_metadata(explore)\n",
    "    \n",
    "    return explore"
   ]
  },
  {
   "cell_type": "code",
   "execution_count": 60,
   "metadata": {},
   "outputs": [],
   "source": [
    "train_transformed = transform_data(train)\n",
    "test_transformed = transform_data(test)"
   ]
  },
  {
   "cell_type": "code",
   "execution_count": 61,
   "metadata": {
    "scrolled": true
   },
   "outputs": [
    {
     "data": {
      "text/html": [
       "<div>\n",
       "<style>\n",
       "    .dataframe thead tr:only-child th {\n",
       "        text-align: right;\n",
       "    }\n",
       "\n",
       "    .dataframe thead th {\n",
       "        text-align: left;\n",
       "    }\n",
       "\n",
       "    .dataframe tbody tr th {\n",
       "        vertical-align: top;\n",
       "    }\n",
       "</style>\n",
       "<table border=\"1\" class=\"dataframe\">\n",
       "  <thead>\n",
       "    <tr style=\"text-align: right;\">\n",
       "      <th></th>\n",
       "      <th>text</th>\n",
       "      <th>author</th>\n",
       "      <th>nouns_count</th>\n",
       "      <th>adjectives_count</th>\n",
       "      <th>verbs_count</th>\n",
       "      <th>adverbs_count</th>\n",
       "      <th>conjuncions_count</th>\n",
       "      <th>foreign_words_count</th>\n",
       "      <th>average_word_length</th>\n",
       "      <th>unique_words</th>\n",
       "      <th>words_occuring_twice</th>\n",
       "      <th>punctuation</th>\n",
       "      <th>words_starting_with_capital</th>\n",
       "      <th>quotes</th>\n",
       "      <th>words_per_sentence</th>\n",
       "      <th>stop_words</th>\n",
       "    </tr>\n",
       "    <tr>\n",
       "      <th>id</th>\n",
       "      <th></th>\n",
       "      <th></th>\n",
       "      <th></th>\n",
       "      <th></th>\n",
       "      <th></th>\n",
       "      <th></th>\n",
       "      <th></th>\n",
       "      <th></th>\n",
       "      <th></th>\n",
       "      <th></th>\n",
       "      <th></th>\n",
       "      <th></th>\n",
       "      <th></th>\n",
       "      <th></th>\n",
       "      <th></th>\n",
       "      <th></th>\n",
       "    </tr>\n",
       "  </thead>\n",
       "  <tbody>\n",
       "    <tr>\n",
       "      <th>id26305</th>\n",
       "      <td>This process, however, afforded me no means of...</td>\n",
       "      <td>EAP</td>\n",
       "      <td>10</td>\n",
       "      <td>2</td>\n",
       "      <td>6</td>\n",
       "      <td>3</td>\n",
       "      <td>1</td>\n",
       "      <td>0</td>\n",
       "      <td>4.658537</td>\n",
       "      <td>35</td>\n",
       "      <td>3</td>\n",
       "      <td>7</td>\n",
       "      <td>3</td>\n",
       "      <td>0</td>\n",
       "      <td>41.0</td>\n",
       "      <td>16</td>\n",
       "    </tr>\n",
       "    <tr>\n",
       "      <th>id17569</th>\n",
       "      <td>It never once occurred to me that the fumbling...</td>\n",
       "      <td>HPL</td>\n",
       "      <td>2</td>\n",
       "      <td>1</td>\n",
       "      <td>2</td>\n",
       "      <td>2</td>\n",
       "      <td>0</td>\n",
       "      <td>0</td>\n",
       "      <td>4.142857</td>\n",
       "      <td>14</td>\n",
       "      <td>1</td>\n",
       "      <td>1</td>\n",
       "      <td>1</td>\n",
       "      <td>0</td>\n",
       "      <td>14.0</td>\n",
       "      <td>7</td>\n",
       "    </tr>\n",
       "    <tr>\n",
       "      <th>id11008</th>\n",
       "      <td>In his left hand was a gold snuff box, from wh...</td>\n",
       "      <td>EAP</td>\n",
       "      <td>10</td>\n",
       "      <td>5</td>\n",
       "      <td>4</td>\n",
       "      <td>1</td>\n",
       "      <td>0</td>\n",
       "      <td>0</td>\n",
       "      <td>4.583333</td>\n",
       "      <td>32</td>\n",
       "      <td>6</td>\n",
       "      <td>5</td>\n",
       "      <td>1</td>\n",
       "      <td>0</td>\n",
       "      <td>36.0</td>\n",
       "      <td>15</td>\n",
       "    </tr>\n",
       "    <tr>\n",
       "      <th>id27763</th>\n",
       "      <td>How lovely is spring As we looked from Windsor...</td>\n",
       "      <td>MWS</td>\n",
       "      <td>10</td>\n",
       "      <td>6</td>\n",
       "      <td>5</td>\n",
       "      <td>1</td>\n",
       "      <td>2</td>\n",
       "      <td>0</td>\n",
       "      <td>5.088235</td>\n",
       "      <td>32</td>\n",
       "      <td>5</td>\n",
       "      <td>4</td>\n",
       "      <td>4</td>\n",
       "      <td>0</td>\n",
       "      <td>34.0</td>\n",
       "      <td>11</td>\n",
       "    </tr>\n",
       "    <tr>\n",
       "      <th>id12958</th>\n",
       "      <td>Finding nothing else, not even gold, the Super...</td>\n",
       "      <td>HPL</td>\n",
       "      <td>7</td>\n",
       "      <td>1</td>\n",
       "      <td>5</td>\n",
       "      <td>4</td>\n",
       "      <td>1</td>\n",
       "      <td>0</td>\n",
       "      <td>5.481481</td>\n",
       "      <td>25</td>\n",
       "      <td>4</td>\n",
       "      <td>4</td>\n",
       "      <td>2</td>\n",
       "      <td>0</td>\n",
       "      <td>27.0</td>\n",
       "      <td>11</td>\n",
       "    </tr>\n",
       "  </tbody>\n",
       "</table>\n",
       "</div>"
      ],
      "text/plain": [
       "                                                      text author  \\\n",
       "id                                                                  \n",
       "id26305  This process, however, afforded me no means of...    EAP   \n",
       "id17569  It never once occurred to me that the fumbling...    HPL   \n",
       "id11008  In his left hand was a gold snuff box, from wh...    EAP   \n",
       "id27763  How lovely is spring As we looked from Windsor...    MWS   \n",
       "id12958  Finding nothing else, not even gold, the Super...    HPL   \n",
       "\n",
       "         nouns_count  adjectives_count  verbs_count  adverbs_count  \\\n",
       "id                                                                   \n",
       "id26305           10                 2            6              3   \n",
       "id17569            2                 1            2              2   \n",
       "id11008           10                 5            4              1   \n",
       "id27763           10                 6            5              1   \n",
       "id12958            7                 1            5              4   \n",
       "\n",
       "         conjuncions_count  foreign_words_count  average_word_length  \\\n",
       "id                                                                     \n",
       "id26305                  1                    0             4.658537   \n",
       "id17569                  0                    0             4.142857   \n",
       "id11008                  0                    0             4.583333   \n",
       "id27763                  2                    0             5.088235   \n",
       "id12958                  1                    0             5.481481   \n",
       "\n",
       "         unique_words  words_occuring_twice  punctuation  \\\n",
       "id                                                         \n",
       "id26305            35                     3            7   \n",
       "id17569            14                     1            1   \n",
       "id11008            32                     6            5   \n",
       "id27763            32                     5            4   \n",
       "id12958            25                     4            4   \n",
       "\n",
       "         words_starting_with_capital  quotes  words_per_sentence  stop_words  \n",
       "id                                                                            \n",
       "id26305                            3       0                41.0          16  \n",
       "id17569                            1       0                14.0           7  \n",
       "id11008                            1       0                36.0          15  \n",
       "id27763                            4       0                34.0          11  \n",
       "id12958                            2       0                27.0          11  "
      ]
     },
     "execution_count": 61,
     "metadata": {},
     "output_type": "execute_result"
    }
   ],
   "source": [
    "train_transformed.head()"
   ]
  },
  {
   "cell_type": "markdown",
   "metadata": {},
   "source": [
    "б"
   ]
  },
  {
   "cell_type": "code",
   "execution_count": 62,
   "metadata": {
    "scrolled": true
   },
   "outputs": [
    {
     "data": {
      "text/plain": [
       "['quotes',\n",
       " 'words_per_sentence',\n",
       " 'verbs_count',\n",
       " 'words_starting_with_capital',\n",
       " 'conjuncions_count',\n",
       " 'punctuation',\n",
       " 'adverbs_count',\n",
       " 'nouns_count',\n",
       " 'words_occuring_twice',\n",
       " 'foreign_words_count',\n",
       " 'unique_words',\n",
       " 'stop_words',\n",
       " 'adjectives_count',\n",
       " 'average_word_length']"
      ]
     },
     "execution_count": 62,
     "metadata": {},
     "output_type": "execute_result"
    }
   ],
   "source": [
    "features_names = list(set(train_transformed.columns) - {'text', 'author'})\n",
    "features_names"
   ]
  },
  {
   "cell_type": "markdown",
   "metadata": {},
   "source": [
    "Да видим какъв резултат ще постигнем само с тези фийчъри."
   ]
  },
  {
   "cell_type": "code",
   "execution_count": 63,
   "metadata": {},
   "outputs": [
    {
     "data": {
      "text/plain": [
       "array([ 0.48749362,  0.48289944,  0.48443083,  0.44716692,  0.46833504,\n",
       "        0.48032703,  0.49105774,  0.48543689,  0.48288196,  0.46244251])"
      ]
     },
     "execution_count": 63,
     "metadata": {},
     "output_type": "execute_result"
    }
   ],
   "source": [
    "from sklearn.ensemble import RandomForestClassifier\n",
    "from sklearn.model_selection import cross_val_score\n",
    "\n",
    "rfc = RandomForestClassifier()\n",
    "cross_val_score(rfc, train_transformed[features_names], train_transformed.author, cv=10, n_jobs=3)"
   ]
  },
  {
   "cell_type": "markdown",
   "metadata": {},
   "source": [
    "Доста слабо, но това е очаквано. Видяхме, че няма кой знае какви различия между авторите при тези фийчъри.\n",
    "\n",
    "\n",
    "На лекциите разгледахме основно Bag-Of-Words под формата на CountVectorizer и TfidfVectorizer, които дадоха доста по-добри резултати. Затова ще пробваме да обединим фийчърите, намерени от тях, с нашите.\n",
    "\n",
    "С това има един проблем - CountVectorizer и TfidfVectorizer връщат sparse матрици. Тъй като лаптопа ми не може да го понесе, не е вариант да ги преобразуваме до dense матрици и да работим с тях. \n",
    "\n",
    "Тогава ще използваме друго - model stacking. За целта ще предиктнем вероятностите с един модел, използващ само Bag-Of-Words фийчърите и ще ги запишем като колони в дейтафрейма с нашите фийчъри."
   ]
  },
  {
   "cell_type": "code",
   "execution_count": 64,
   "metadata": {},
   "outputs": [],
   "source": [
    "from sklearn.model_selection import StratifiedKFold\n",
    "from sklearn import metrics\n",
    "\n",
    "TEXT_COLUMN = 'text'\n",
    "\n",
    "PREDICT_PROBA_TRAIN_ROWS = train.shape[0]\n",
    "PREDICT_PROBA_TRAIN_COLUMNS = 3\n",
    "\n",
    "PREDICT_PROBA_TEST_ROWS = test.shape[0]\n",
    "PREDICT_PROBA_TEST_COLUMNS = 3\n",
    "\n",
    "y = train.author\n",
    "\n",
    "\n",
    "def run_stratifiedkfold(train, global_test, cv=5):\n",
    "    kf = StratifiedKFold(n_splits=cv, shuffle=True, random_state=42)\n",
    "    \n",
    "    cv_scores = []\n",
    "    predict_proba_train = pd.np.zeros([PREDICT_PROBA_TRAIN_ROWS, PREDICT_PROBA_TRAIN_COLUMNS])\n",
    "    predict_proba_test = 0\n",
    "    \n",
    "    for train_indexes, test_indexes in kf.split(train, y):\n",
    "        X_train, X_test = train[train_indexes], train[test_indexes]\n",
    "        y_train, y_test = y[train_indexes], y[test_indexes]\n",
    "        \n",
    "        model.fit(X_train, y_train)\n",
    "        train_predicted = model.predict_proba(X_test)\n",
    "        test_predicted = model.predict_proba(global_test)\n",
    "        \n",
    "        predict_proba_test += test_predicted\n",
    "        predict_proba_train[test_indexes, :] = train_predicted\n",
    "        \n",
    "        cv_scores.append(metrics.log_loss(y_test, train_predicted))\n",
    "        \n",
    "    print(\"Mean CV LogLoss: %.3f\" % (pd.np.mean(cv_scores)))\n",
    "    \n",
    "    return (predict_proba_train, predict_proba_test)\n",
    "    \n",
    "\n",
    "def add_predict_proba_features(vectorizer, model, prefix, train_df, test_df, cv=5):\n",
    "    full_text = train_df[TEXT_COLUMN].append(test_df[TEXT_COLUMN])\n",
    "    vectorizer.fit(full_text)\n",
    "    \n",
    "    train_transformed = vectorizer.transform(train_df[TEXT_COLUMN])\n",
    "    test_transformed = vectorizer.transform(test_df[TEXT_COLUMN])\n",
    "    \n",
    "    pred_train, pred_test = run_stratifiedkfold(train_transformed, test_transformed, cv=cv)\n",
    "    \n",
    "    pred_test /= cv\n",
    "    \n",
    "    eap_prefix = prefix+'eap'\n",
    "    hpl_prefix = prefix+'hpl'\n",
    "    mws_prefix = prefix+'mws'\n",
    "    \n",
    "    train_df[eap_prefix] = pred_train[:, 0]\n",
    "    train_df[hpl_prefix] = pred_train[:, 1]\n",
    "    train_df[mws_prefix] = pred_train[:, 2]\n",
    "    \n",
    "    test_df[eap_prefix] = pred_test[:, 0]\n",
    "    test_df[hpl_prefix] = pred_test[:, 1]\n",
    "    test_df[mws_prefix] = pred_test[:, 2]"
   ]
  },
  {
   "cell_type": "markdown",
   "metadata": {},
   "source": [
    "Ще използвам комбинацията Tfidf - Multinomial Naive Bayes, защото ми дава най-добри резултати:"
   ]
  },
  {
   "cell_type": "code",
   "execution_count": 65,
   "metadata": {},
   "outputs": [
    {
     "name": "stdout",
     "output_type": "stream",
     "text": [
      "Mean CV LogLoss: 0.341\n"
     ]
    }
   ],
   "source": [
    "vectorizer = TfidfVectorizer(ngram_range=(1, 2), min_df=2,\n",
    "                                 max_df=0.8, lowercase=False)\n",
    "\n",
    "model = MultinomialNB(alpha=0.03)\n",
    "\n",
    "add_predict_proba_features(vectorizer, model, \"nb_tfidf_\",\n",
    "                           train_df = train_transformed,\n",
    "                           test_df = test_transformed,\n",
    "                           cv=40)"
   ]
  },
  {
   "cell_type": "code",
   "execution_count": 66,
   "metadata": {},
   "outputs": [
    {
     "data": {
      "text/html": [
       "<div>\n",
       "<style>\n",
       "    .dataframe thead tr:only-child th {\n",
       "        text-align: right;\n",
       "    }\n",
       "\n",
       "    .dataframe thead th {\n",
       "        text-align: left;\n",
       "    }\n",
       "\n",
       "    .dataframe tbody tr th {\n",
       "        vertical-align: top;\n",
       "    }\n",
       "</style>\n",
       "<table border=\"1\" class=\"dataframe\">\n",
       "  <thead>\n",
       "    <tr style=\"text-align: right;\">\n",
       "      <th></th>\n",
       "      <th>text</th>\n",
       "      <th>author</th>\n",
       "      <th>nouns_count</th>\n",
       "      <th>adjectives_count</th>\n",
       "      <th>verbs_count</th>\n",
       "      <th>adverbs_count</th>\n",
       "      <th>conjuncions_count</th>\n",
       "      <th>foreign_words_count</th>\n",
       "      <th>average_word_length</th>\n",
       "      <th>unique_words</th>\n",
       "      <th>words_occuring_twice</th>\n",
       "      <th>punctuation</th>\n",
       "      <th>words_starting_with_capital</th>\n",
       "      <th>quotes</th>\n",
       "      <th>words_per_sentence</th>\n",
       "      <th>stop_words</th>\n",
       "      <th>nb_tfidf_eap</th>\n",
       "      <th>nb_tfidf_hpl</th>\n",
       "      <th>nb_tfidf_mws</th>\n",
       "    </tr>\n",
       "    <tr>\n",
       "      <th>id</th>\n",
       "      <th></th>\n",
       "      <th></th>\n",
       "      <th></th>\n",
       "      <th></th>\n",
       "      <th></th>\n",
       "      <th></th>\n",
       "      <th></th>\n",
       "      <th></th>\n",
       "      <th></th>\n",
       "      <th></th>\n",
       "      <th></th>\n",
       "      <th></th>\n",
       "      <th></th>\n",
       "      <th></th>\n",
       "      <th></th>\n",
       "      <th></th>\n",
       "      <th></th>\n",
       "      <th></th>\n",
       "      <th></th>\n",
       "    </tr>\n",
       "  </thead>\n",
       "  <tbody>\n",
       "    <tr>\n",
       "      <th>id26305</th>\n",
       "      <td>This process, however, afforded me no means of...</td>\n",
       "      <td>EAP</td>\n",
       "      <td>10</td>\n",
       "      <td>2</td>\n",
       "      <td>6</td>\n",
       "      <td>3</td>\n",
       "      <td>1</td>\n",
       "      <td>0</td>\n",
       "      <td>4.658537</td>\n",
       "      <td>35</td>\n",
       "      <td>3</td>\n",
       "      <td>7</td>\n",
       "      <td>3</td>\n",
       "      <td>0</td>\n",
       "      <td>41.0</td>\n",
       "      <td>16</td>\n",
       "      <td>0.985137</td>\n",
       "      <td>0.004088</td>\n",
       "      <td>0.010775</td>\n",
       "    </tr>\n",
       "    <tr>\n",
       "      <th>id17569</th>\n",
       "      <td>It never once occurred to me that the fumbling...</td>\n",
       "      <td>HPL</td>\n",
       "      <td>2</td>\n",
       "      <td>1</td>\n",
       "      <td>2</td>\n",
       "      <td>2</td>\n",
       "      <td>0</td>\n",
       "      <td>0</td>\n",
       "      <td>4.142857</td>\n",
       "      <td>14</td>\n",
       "      <td>1</td>\n",
       "      <td>1</td>\n",
       "      <td>1</td>\n",
       "      <td>0</td>\n",
       "      <td>14.0</td>\n",
       "      <td>7</td>\n",
       "      <td>0.532566</td>\n",
       "      <td>0.269463</td>\n",
       "      <td>0.197972</td>\n",
       "    </tr>\n",
       "    <tr>\n",
       "      <th>id11008</th>\n",
       "      <td>In his left hand was a gold snuff box, from wh...</td>\n",
       "      <td>EAP</td>\n",
       "      <td>10</td>\n",
       "      <td>5</td>\n",
       "      <td>4</td>\n",
       "      <td>1</td>\n",
       "      <td>0</td>\n",
       "      <td>0</td>\n",
       "      <td>4.583333</td>\n",
       "      <td>32</td>\n",
       "      <td>6</td>\n",
       "      <td>5</td>\n",
       "      <td>1</td>\n",
       "      <td>0</td>\n",
       "      <td>36.0</td>\n",
       "      <td>15</td>\n",
       "      <td>0.907721</td>\n",
       "      <td>0.091612</td>\n",
       "      <td>0.000668</td>\n",
       "    </tr>\n",
       "    <tr>\n",
       "      <th>id27763</th>\n",
       "      <td>How lovely is spring As we looked from Windsor...</td>\n",
       "      <td>MWS</td>\n",
       "      <td>10</td>\n",
       "      <td>6</td>\n",
       "      <td>5</td>\n",
       "      <td>1</td>\n",
       "      <td>2</td>\n",
       "      <td>0</td>\n",
       "      <td>5.088235</td>\n",
       "      <td>32</td>\n",
       "      <td>5</td>\n",
       "      <td>4</td>\n",
       "      <td>4</td>\n",
       "      <td>0</td>\n",
       "      <td>34.0</td>\n",
       "      <td>11</td>\n",
       "      <td>0.001117</td>\n",
       "      <td>0.001048</td>\n",
       "      <td>0.997835</td>\n",
       "    </tr>\n",
       "    <tr>\n",
       "      <th>id12958</th>\n",
       "      <td>Finding nothing else, not even gold, the Super...</td>\n",
       "      <td>HPL</td>\n",
       "      <td>7</td>\n",
       "      <td>1</td>\n",
       "      <td>5</td>\n",
       "      <td>4</td>\n",
       "      <td>1</td>\n",
       "      <td>0</td>\n",
       "      <td>5.481481</td>\n",
       "      <td>25</td>\n",
       "      <td>4</td>\n",
       "      <td>4</td>\n",
       "      <td>2</td>\n",
       "      <td>0</td>\n",
       "      <td>27.0</td>\n",
       "      <td>11</td>\n",
       "      <td>0.467071</td>\n",
       "      <td>0.430174</td>\n",
       "      <td>0.102754</td>\n",
       "    </tr>\n",
       "  </tbody>\n",
       "</table>\n",
       "</div>"
      ],
      "text/plain": [
       "                                                      text author  \\\n",
       "id                                                                  \n",
       "id26305  This process, however, afforded me no means of...    EAP   \n",
       "id17569  It never once occurred to me that the fumbling...    HPL   \n",
       "id11008  In his left hand was a gold snuff box, from wh...    EAP   \n",
       "id27763  How lovely is spring As we looked from Windsor...    MWS   \n",
       "id12958  Finding nothing else, not even gold, the Super...    HPL   \n",
       "\n",
       "         nouns_count  adjectives_count  verbs_count  adverbs_count  \\\n",
       "id                                                                   \n",
       "id26305           10                 2            6              3   \n",
       "id17569            2                 1            2              2   \n",
       "id11008           10                 5            4              1   \n",
       "id27763           10                 6            5              1   \n",
       "id12958            7                 1            5              4   \n",
       "\n",
       "         conjuncions_count  foreign_words_count  average_word_length  \\\n",
       "id                                                                     \n",
       "id26305                  1                    0             4.658537   \n",
       "id17569                  0                    0             4.142857   \n",
       "id11008                  0                    0             4.583333   \n",
       "id27763                  2                    0             5.088235   \n",
       "id12958                  1                    0             5.481481   \n",
       "\n",
       "         unique_words  words_occuring_twice  punctuation  \\\n",
       "id                                                         \n",
       "id26305            35                     3            7   \n",
       "id17569            14                     1            1   \n",
       "id11008            32                     6            5   \n",
       "id27763            32                     5            4   \n",
       "id12958            25                     4            4   \n",
       "\n",
       "         words_starting_with_capital  quotes  words_per_sentence  stop_words  \\\n",
       "id                                                                             \n",
       "id26305                            3       0                41.0          16   \n",
       "id17569                            1       0                14.0           7   \n",
       "id11008                            1       0                36.0          15   \n",
       "id27763                            4       0                34.0          11   \n",
       "id12958                            2       0                27.0          11   \n",
       "\n",
       "         nb_tfidf_eap  nb_tfidf_hpl  nb_tfidf_mws  \n",
       "id                                                 \n",
       "id26305      0.985137      0.004088      0.010775  \n",
       "id17569      0.532566      0.269463      0.197972  \n",
       "id11008      0.907721      0.091612      0.000668  \n",
       "id27763      0.001117      0.001048      0.997835  \n",
       "id12958      0.467071      0.430174      0.102754  "
      ]
     },
     "execution_count": 66,
     "metadata": {},
     "output_type": "execute_result"
    }
   ],
   "source": [
    "train_exp.head()"
   ]
  },
  {
   "cell_type": "markdown",
   "metadata": {},
   "source": [
    "Нека да потренираме модели. Първо логистична регресия."
   ]
  },
  {
   "cell_type": "code",
   "execution_count": 67,
   "metadata": {},
   "outputs": [],
   "source": [
    "X = train_transformed.drop(labels=['text', 'author'], axis=1)\n",
    "y = train.author"
   ]
  },
  {
   "cell_type": "code",
   "execution_count": 68,
   "metadata": {
    "scrolled": true
   },
   "outputs": [
    {
     "name": "stdout",
     "output_type": "stream",
     "text": [
      "[ 0.87438725  0.86837266  0.86758621]\n",
      "[-0.34809501 -0.34602123 -0.34686561]\n"
     ]
    }
   ],
   "source": [
    "from sklearn.ensemble import RandomForestClassifier\n",
    "from sklearn.linear_model import LogisticRegression\n",
    "from sklearn.model_selection import cross_val_score\n",
    "\n",
    "model = LogisticRegression()\n",
    "print(cross_val_score(model, X, y, cv=3, n_jobs=3))\n",
    "print(cross_val_score(model, X, y, cv=3, n_jobs=3, \n",
    "                scoring='neg_log_loss'))"
   ]
  },
  {
   "cell_type": "markdown",
   "metadata": {},
   "source": [
    "Да пуснем един Grid Search за по-добри параметри"
   ]
  },
  {
   "cell_type": "code",
   "execution_count": 69,
   "metadata": {
    "scrolled": true
   },
   "outputs": [
    {
     "data": {
      "text/html": [
       "<div>\n",
       "<style>\n",
       "    .dataframe thead tr:only-child th {\n",
       "        text-align: right;\n",
       "    }\n",
       "\n",
       "    .dataframe thead th {\n",
       "        text-align: left;\n",
       "    }\n",
       "\n",
       "    .dataframe tbody tr th {\n",
       "        vertical-align: top;\n",
       "    }\n",
       "</style>\n",
       "<table border=\"1\" class=\"dataframe\">\n",
       "  <thead>\n",
       "    <tr style=\"text-align: right;\">\n",
       "      <th></th>\n",
       "      <th>rank_test_score</th>\n",
       "      <th>mean_test_score</th>\n",
       "      <th>params</th>\n",
       "    </tr>\n",
       "  </thead>\n",
       "  <tbody>\n",
       "    <tr>\n",
       "      <th>6</th>\n",
       "      <td>1</td>\n",
       "      <td>-0.346913</td>\n",
       "      <td>{'C': 100}</td>\n",
       "    </tr>\n",
       "    <tr>\n",
       "      <th>5</th>\n",
       "      <td>2</td>\n",
       "      <td>-0.346924</td>\n",
       "      <td>{'C': 20}</td>\n",
       "    </tr>\n",
       "    <tr>\n",
       "      <th>4</th>\n",
       "      <td>3</td>\n",
       "      <td>-0.346925</td>\n",
       "      <td>{'C': 10}</td>\n",
       "    </tr>\n",
       "    <tr>\n",
       "      <th>2</th>\n",
       "      <td>4</td>\n",
       "      <td>-0.346994</td>\n",
       "      <td>{'C': 1}</td>\n",
       "    </tr>\n",
       "    <tr>\n",
       "      <th>3</th>\n",
       "      <td>5</td>\n",
       "      <td>-0.347112</td>\n",
       "      <td>{'C': 0.5}</td>\n",
       "    </tr>\n",
       "    <tr>\n",
       "      <th>1</th>\n",
       "      <td>6</td>\n",
       "      <td>-0.349259</td>\n",
       "      <td>{'C': 0.1}</td>\n",
       "    </tr>\n",
       "    <tr>\n",
       "      <th>0</th>\n",
       "      <td>7</td>\n",
       "      <td>-0.393182</td>\n",
       "      <td>{'C': 0.01}</td>\n",
       "    </tr>\n",
       "  </tbody>\n",
       "</table>\n",
       "</div>"
      ],
      "text/plain": [
       "   rank_test_score  mean_test_score       params\n",
       "6                1        -0.346913   {'C': 100}\n",
       "5                2        -0.346924    {'C': 20}\n",
       "4                3        -0.346925    {'C': 10}\n",
       "2                4        -0.346994     {'C': 1}\n",
       "3                5        -0.347112   {'C': 0.5}\n",
       "1                6        -0.349259   {'C': 0.1}\n",
       "0                7        -0.393182  {'C': 0.01}"
      ]
     },
     "execution_count": 69,
     "metadata": {},
     "output_type": "execute_result"
    }
   ],
   "source": [
    "from sklearn.model_selection import GridSearchCV\n",
    "\n",
    "search = GridSearchCV(LogisticRegression(), {'C': [0.01, 0.1, 1, 0.5, 10, 20, 100]}, scoring='neg_log_loss')\n",
    "search.fit(X, y)\n",
    "\n",
    "pd.DataFrame(search.cv_results_)[['rank_test_score', 'mean_test_score', 'params']].sort_values(by='rank_test_score').head(10)"
   ]
  },
  {
   "cell_type": "code",
   "execution_count": 70,
   "metadata": {},
   "outputs": [
    {
     "name": "stdout",
     "output_type": "stream",
     "text": [
      "[ 0.87438725  0.8680662   0.86743295]\n",
      "[-0.34800098 -0.34585905 -0.34687922]\n"
     ]
    }
   ],
   "source": [
    "from sklearn.ensemble import RandomForestClassifier\n",
    "from sklearn.linear_model import LogisticRegression\n",
    "from sklearn.model_selection import cross_val_score\n",
    "\n",
    "model = LogisticRegression(C=100)\n",
    "print(cross_val_score(model, X, y, cv=3, n_jobs=3))\n",
    "print(cross_val_score(model, X, y, cv=3, n_jobs=3, \n",
    "                scoring='neg_log_loss'))"
   ]
  },
  {
   "cell_type": "markdown",
   "metadata": {},
   "source": [
    "Да видим дали няма да намерим нещо по-добро със SVC."
   ]
  },
  {
   "cell_type": "code",
   "execution_count": 71,
   "metadata": {},
   "outputs": [
    {
     "name": "stdout",
     "output_type": "stream",
     "text": [
      "Best params:\n",
      "{'classifier__C': 1, 'classifier__gamma': 1}\n",
      "\n",
      "Best cross-validation score: -0.34\n"
     ]
    }
   ],
   "source": [
    "from sklearn.svm import SVC\n",
    "from sklearn.preprocessing import StandardScaler\n",
    "from sklearn.pipeline import Pipeline\n",
    "\n",
    "pipe = Pipeline([\n",
    "    ('preprocessing', StandardScaler()), \n",
    "    ('classifier', SVC(kernel='linear', probability=True))\n",
    "])\n",
    "\n",
    "grid = {\n",
    "    'classifier__gamma': [0.1, 1],\n",
    "    'classifier__C': [0.1, 1]\n",
    "}\n",
    "\n",
    "search = GridSearchCV(pipe, grid, cv=5, scoring='neg_log_loss')\n",
    "search.fit(X, y)\n",
    "\n",
    "print(\"Best params:\\n{}\\n\".format(search.best_params_))\n",
    "print(\"Best cross-validation score: {:.2f}\".format(search.best_score_))"
   ]
  },
  {
   "cell_type": "markdown",
   "metadata": {},
   "source": [
    "Ще събмитнем резултатите за двата модела, като използваме най-добрите хипер-параметри, коти даде Grid Search-a.\n"
   ]
  },
  {
   "cell_type": "markdown",
   "metadata": {},
   "source": [
    "# Submission"
   ]
  },
  {
   "cell_type": "code",
   "execution_count": 72,
   "metadata": {},
   "outputs": [],
   "source": [
    "def prepare_submission(model, filename='submission.csv'):\n",
    "    model.fit(X, y)\n",
    "    \n",
    "    predictions = model.predict_proba(test_transformed.drop('text', axis=1))\n",
    "    submit_file = pd.DataFrame(predictions, columns=['EAP', 'HPL', 'MWS'], index=test.index)\n",
    "    print(submit_file.head())\n",
    "    submit_file.to_csv(\"data/spooky-author/{}\".format(filename))"
   ]
  },
  {
   "cell_type": "code",
   "execution_count": 73,
   "metadata": {},
   "outputs": [
    {
     "name": "stdout",
     "output_type": "stream",
     "text": [
      "              EAP       HPL       MWS\n",
      "id                                   \n",
      "id02310  0.047149  0.023792  0.929059\n",
      "id24541  0.956355  0.018994  0.024651\n",
      "id00134  0.015998  0.964524  0.019478\n",
      "id27757  0.627169  0.338734  0.034097\n",
      "id04081  0.764668  0.186678  0.048653\n"
     ]
    }
   ],
   "source": [
    "prepare_submission(LogisticRegression(C=100), 'logreg_submission.csv')"
   ]
  },
  {
   "cell_type": "code",
   "execution_count": 75,
   "metadata": {},
   "outputs": [
    {
     "name": "stdout",
     "output_type": "stream",
     "text": [
      "              EAP       HPL       MWS\n",
      "id                                   \n",
      "id02310  0.040983  0.014084  0.944932\n",
      "id24541  0.938373  0.028509  0.033118\n",
      "id00134  0.007634  0.987775  0.004591\n",
      "id27757  0.552573  0.376323  0.071104\n",
      "id04081  0.760586  0.169019  0.070395\n"
     ]
    }
   ],
   "source": [
    "pipe = Pipeline([\n",
    "    ('preprocessing', StandardScaler()), \n",
    "    ('classifier', SVC(kernel='linear', C=1, gamma=1, probability=True))\n",
    "])\n",
    "\n",
    "prepare_submission(pipe, 'svc_submission.svc')"
   ]
  },
  {
   "cell_type": "markdown",
   "metadata": {},
   "source": [
    "Leaderboard резултати:\n",
    "\n",
    "При LogisticRegression-а - **0.35698**\n",
    "\n",
    "При SVC-то - **0.35610**\n",
    "\n",
    "Не постигнахме лоши резултати. Видяхме, че само по себе си метаинформацията за текста, както и това колко и какви части на речта използват авторите, не ни донесе добър резултат. Също така видяхме на лекцията, че един Наивен модел, използващ Bag-Of-Words, се справя учудващо добре, но отново имаше какво да се желае. Обаче когато използвахме двата вида feature-и едновременно, чрез стакване на модели, постигнахме ~4% увеличение на резултата на Leaderboard-а. \n"
   ]
  }
 ],
 "metadata": {
  "kernelspec": {
   "display_name": "Python 3",
   "language": "python",
   "name": "python3"
  },
  "language_info": {
   "codemirror_mode": {
    "name": "ipython",
    "version": 3
   },
   "file_extension": ".py",
   "mimetype": "text/x-python",
   "name": "python",
   "nbconvert_exporter": "python",
   "pygments_lexer": "ipython3",
   "version": "3.6.3"
  }
 },
 "nbformat": 4,
 "nbformat_minor": 2
}
