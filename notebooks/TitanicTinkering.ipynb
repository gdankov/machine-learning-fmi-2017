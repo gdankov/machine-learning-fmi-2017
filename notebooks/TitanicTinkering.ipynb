{
 "cells": [
  {
   "cell_type": "markdown",
   "metadata": {},
   "source": [
    "# Titanic Tinkering\n",
    "\n",
    "Този notebook служи като допълнение на този, представен на [лекцията](http://fmi.machine-learning.bg/lectures/06-titanic).\n",
    "Не виждам смисъл да повтарям data exploration-а и директно ще премина към feature engineering.\n",
    "\n",
    "Ще пробвам да постигна по-добър резултат на Leaderboard-a, като променя малко feature-ите и оптимизирам хипер-параметрите на RandomForestClassifier модела. "
   ]
  },
  {
   "cell_type": "code",
   "execution_count": 734,
   "metadata": {},
   "outputs": [],
   "source": [
    "import numpy as np\n",
    "import matplotlib.pyplot as plt\n",
    "import pandas as pd\n",
    "import seaborn as sns\n",
    "import mglearn\n",
    "\n",
    "from IPython.display import display\n",
    "\n",
    "%matplotlib inline"
   ]
  },
  {
   "cell_type": "code",
   "execution_count": 735,
   "metadata": {},
   "outputs": [],
   "source": [
    "train_data = pd.read_csv('data/titanic/train.csv', index_col='PassengerId')\n",
    "test_data = pd.read_csv('data/titanic/test.csv', index_col='PassengerId')"
   ]
  },
  {
   "cell_type": "markdown",
   "metadata": {},
   "source": [
    "### Title\n",
    "\n",
    "Титлите ще ги оставя както бяха показани на лекцията, защото с тях ми дава най-добър резултат. Пробвах и вариант, в който Rare титлите ги разделих на 3 подразделения (military, honorific и other), но това не помогна."
   ]
  },
  {
   "cell_type": "code",
   "execution_count": 705,
   "metadata": {},
   "outputs": [],
   "source": [
    "def process_title(data):\n",
    "    data['Title'] = data['Name'].map(lambda x: x.split(',')[1].split('.')[0].strip())\n",
    "    \n",
    "    data.loc[data.Title == 'Mlle', 'Title'] = 'Miss'\n",
    "    data.loc[data.Title == 'Mme', 'Title']  = 'Mrs'\n",
    "    data.loc[data.Title == 'Ms', 'Title']   = 'Miss'\n",
    "    \n",
    "    rare = ['Jonkheer', 'Don', 'Dona', 'Lady', 'the Countess', 'Sir', 'Col', 'Major', 'Capt', 'Rev', 'Dr']\n",
    "    data.Title.replace(rare, 'Rare', inplace=True)"
   ]
  },
  {
   "cell_type": "markdown",
   "metadata": {},
   "source": [
    "### Deck\n",
    "\n",
    "Забелязах, че всеки от билетите започва с буква. Оказа се, че тази буква показва палубата."
   ]
  },
  {
   "cell_type": "code",
   "execution_count": 748,
   "metadata": {},
   "outputs": [
    {
     "name": "stdout",
     "output_type": "stream",
     "text": [
      "Deck values for train data:\n",
      "U    687\n",
      "C     59\n",
      "B     47\n",
      "D     33\n",
      "E     32\n",
      "A     15\n",
      "F     13\n",
      "G      4\n",
      "T      1\n",
      "Name: Cabin, dtype: int64\n",
      "\n",
      "Deck values for test data:\n",
      "U    327\n",
      "C     35\n",
      "B     18\n",
      "D     13\n",
      "E      9\n",
      "F      8\n",
      "A      7\n",
      "G      1\n",
      "Name: Cabin, dtype: int64\n"
     ]
    }
   ],
   "source": [
    "def print_decks(df):\n",
    "    cabins = df.Cabin.fillna('U')\n",
    "    print(cabins.map(lambda c: c[0]).value_counts())\n",
    "\n",
    "print(\"Deck values for train data:\")\n",
    "print_decks(train_data)\n",
    "\n",
    "print()\n",
    "print(\"Deck values for test data:\")\n",
    "print_decks(test_data)\n"
   ]
  },
  {
   "cell_type": "markdown",
   "metadata": {},
   "source": [
    "Повечето от билетите липсват, затова при тях слагам стойност 'U' от 'Unknown'.\n",
    "\n",
    "Също така виждаме, че в трейн сета има някаква палуба Т. Според Уикипедия такава палуба няма, следователно е някаква грешка. Причислявам го към 'Unknown'."
   ]
  },
  {
   "cell_type": "code",
   "execution_count": 749,
   "metadata": {},
   "outputs": [],
   "source": [
    "def process_cabin(data):\n",
    "    data.Cabin.replace('T', 'U', inplace=True)\n",
    "    data.Cabin.fillna('U', inplace=True)\n",
    "    data['Deck'] = data.Cabin.map(lambda c: c[0])"
   ]
  },
  {
   "cell_type": "markdown",
   "metadata": {},
   "source": [
    "### Family Size\n",
    "\n",
    "На лекцията видяхе, че е по-вероятно да оцелееш, ако не пътуваш сам.\n",
    "\n",
    "Ще създадем нови feature-и, свързани с големината на семейството. Използвам 'FamilySize' само за да си направя другите 3 feature-а, след това ще го затрия (заедно с 'Parch' и 'SibSp'). "
   ]
  },
  {
   "cell_type": "code",
   "execution_count": 708,
   "metadata": {},
   "outputs": [],
   "source": [
    "def process_family_size(data):\n",
    "    data['FamilySize'] = data['Parch'] + data['SibSp'] + 1\n",
    "    \n",
    "    data['IsAlone'] = (data.FamilySize == 1).astype(float)\n",
    "    data['IsSmallFamily'] = ((2 <= data.FamilySize) & (data.FamilySize <= 4)).astype(float)\n",
    "    data['IsLargeFamily'] = (5 <= data.FamilySize).astype(float)"
   ]
  },
  {
   "cell_type": "markdown",
   "metadata": {},
   "source": [
    "### Age\n",
    "\n",
    "Липсващите години ще ги попълним със средно аритметичните за титлата им.\n",
    "\n",
    "Реших да bin-на годините на групи, защото получавах лоши резултати като бяха непрекъснат feature. Разделих ги на 5 групи, които обхващат не лошо всички възрастови групи."
   ]
  },
  {
   "cell_type": "code",
   "execution_count": 764,
   "metadata": {},
   "outputs": [
    {
     "data": {
      "image/png": "[encoded data removed]",
      "text/plain": [
       "<matplotlib.figure.Figure at 0x7f546d697da0>"
      ]
     },
     "metadata": {},
     "output_type": "display_data"
    }
   ],
   "source": [
    "bins=[0, 16, 32, 48, 64, 90]\n",
    "\n",
    "plt.hist(list(train_data[train_data.Survived == 1]['Age'].dropna()), alpha=0.5, color=\"red\", bins=bins);\n",
    "plt.hist(list(train_data[train_data.Survived == 0]['Age'].dropna()), alpha=0.5, color=\"skyblue\", bins=bins);\n"
   ]
  },
  {
   "cell_type": "code",
   "execution_count": 750,
   "metadata": {},
   "outputs": [],
   "source": [
    "def fill_null_age(data):\n",
    "    age_by_title = data.groupby('Title').Age.mean()\n",
    "\n",
    "    data.loc[data.Age.isnull() & (data.Title == 'Mr'), 'Age'] = age_by_title['Mr']\n",
    "    data.loc[data.Age.isnull() & (data.Title == 'Mrs'), 'Age'] = age_by_title['Mrs']\n",
    "    data.loc[data.Age.isnull() & (data.Title == 'Miss'), 'Age'] = age_by_title['Miss']\n",
    "    data.loc[data.Age.isnull() & (data.Title == 'Master'), 'Age'] = age_by_title['Master']\n",
    "    data.loc[data.Age.isnull() & (data.Title == 'Rare'), 'Age'] = age_by_title['Rare']"
   ]
  },
  {
   "cell_type": "code",
   "execution_count": 710,
   "metadata": {},
   "outputs": [],
   "source": [
    "def process_age(data):\n",
    "    data.Age = pd.cut(data.Age, bins=[0, 16, 32, 48, 64, 90], labels=[0, 1, 2, 3, 4])"
   ]
  },
  {
   "cell_type": "markdown",
   "metadata": {},
   "source": [
    "### Fare\n",
    "\n",
    "Същата логика като с годините - като непрекъснат feature таксата ми даваше незадоволителни резултати. Затова и тях ги bin-нах, този път на 4 групи. Разделението е на база на 25, 50 и 75 percentiles (персентили ??), които връща describe функцията."
   ]
  },
  {
   "cell_type": "code",
   "execution_count": 766,
   "metadata": {},
   "outputs": [
    {
     "data": {
      "text/plain": [
       "count    891.000000\n",
       "mean      32.204208\n",
       "std       49.693429\n",
       "min        0.000000\n",
       "25%        7.910400\n",
       "50%       14.454200\n",
       "75%       31.000000\n",
       "max      512.329200\n",
       "Name: Fare, dtype: float64"
      ]
     },
     "execution_count": 766,
     "metadata": {},
     "output_type": "execute_result"
    }
   ],
   "source": [
    "train_data.Fare.describe()"
   ]
  },
  {
   "cell_type": "code",
   "execution_count": 767,
   "metadata": {},
   "outputs": [],
   "source": [
    "def process_fare(data):\n",
    "    data['Fare'] = pd.cut(data.Fare, bins=[0, 7.91, 14.454, 31, 513], \n",
    "                              labels=[0, 1, 2, 3], \n",
    "                              include_lowest=True)"
   ]
  },
  {
   "cell_type": "markdown",
   "metadata": {},
   "source": [
    "Това е помощна функция, която one-hot encode-ва колони."
   ]
  },
  {
   "cell_type": "code",
   "execution_count": 751,
   "metadata": {},
   "outputs": [],
   "source": [
    "def create_dummies(data, cols=[]):\n",
    "    dummies = [pd.get_dummies(data[col],prefix=col) for col in cols]\n",
    "    data = pd.concat([data] + dummies,axis=1)\n",
    "    return data"
   ]
  },
  {
   "cell_type": "markdown",
   "metadata": {},
   "source": [
    "Това са ни feature-ите, с които ще работим.\n",
    "\n",
    "Нека си направим цялата функция за трансформиране на данните:"
   ]
  },
  {
   "cell_type": "code",
   "execution_count": 712,
   "metadata": {},
   "outputs": [],
   "source": [
    "def transform_data(gotten):\n",
    "    data = gotten.copy()\n",
    "    \n",
    "    data['IsMale']    = (data.Sex == 'male').astype(float)\n",
    "    data.Embarked = data.Embarked.fillna('S')\n",
    "    \n",
    "    process_title(data)\n",
    "    process_cabin(data)\n",
    "    fill_null_age(data)\n",
    "    \n",
    "    data = create_dummies(data, ['Embarked', 'Title', 'Deck', 'Pclass'])\n",
    "    \n",
    "    process_age(data)\n",
    "    process_fare(data)\n",
    "    process_family_size(data)\n",
    "    \n",
    "    data = create_dummies(data, ['Age', 'Fare'])\n",
    "    \n",
    "    return data.drop(labels=['Sex', 'Name', 'Pclass', 'Embarked', 'Title', \n",
    "                             'Deck', 'Ticket', 'SibSp', 'Parch', 'FamilySize', \n",
    "                             'Age', 'Fare', 'Cabin'], axis=1)"
   ]
  },
  {
   "cell_type": "code",
   "execution_count": 713,
   "metadata": {},
   "outputs": [],
   "source": [
    "train_transformed = transform_data(train_data)"
   ]
  },
  {
   "cell_type": "code",
   "execution_count": 716,
   "metadata": {},
   "outputs": [
    {
     "data": {
      "text/plain": [
       "(891, 33)"
      ]
     },
     "execution_count": 716,
     "metadata": {},
     "output_type": "execute_result"
    }
   ],
   "source": [
    "train_transformed.shape"
   ]
  },
  {
   "cell_type": "code",
   "execution_count": 715,
   "metadata": {},
   "outputs": [
    {
     "data": {
      "text/plain": [
       "Survived         0\n",
       "IsMale           0\n",
       "Embarked_C       0\n",
       "Embarked_Q       0\n",
       "Embarked_S       0\n",
       "Title_Master     0\n",
       "Title_Miss       0\n",
       "Title_Mr         0\n",
       "Title_Mrs        0\n",
       "Title_Rare       0\n",
       "Deck_A           0\n",
       "Deck_B           0\n",
       "Deck_C           0\n",
       "Deck_D           0\n",
       "Deck_E           0\n",
       "Deck_F           0\n",
       "Deck_G           0\n",
       "Deck_U           0\n",
       "Pclass_1         0\n",
       "Pclass_2         0\n",
       "Pclass_3         0\n",
       "IsAlone          0\n",
       "IsSmallFamily    0\n",
       "IsLargeFamily    0\n",
       "Age_0            0\n",
       "Age_1            0\n",
       "Age_2            0\n",
       "Age_3            0\n",
       "Age_4            0\n",
       "Fare_0           0\n",
       "Fare_1           0\n",
       "Fare_2           0\n",
       "Fare_3           0\n",
       "dtype: int64"
      ]
     },
     "execution_count": 715,
     "metadata": {},
     "output_type": "execute_result"
    }
   ],
   "source": [
    "train_transformed.isnull().sum()"
   ]
  },
  {
   "cell_type": "code",
   "execution_count": 781,
   "metadata": {
    "scrolled": true
   },
   "outputs": [
    {
     "data": {
      "text/html": [
       "<div>\n",
       "<style>\n",
       "    .dataframe thead tr:only-child th {\n",
       "        text-align: right;\n",
       "    }\n",
       "\n",
       "    .dataframe thead th {\n",
       "        text-align: left;\n",
       "    }\n",
       "\n",
       "    .dataframe tbody tr th {\n",
       "        vertical-align: top;\n",
       "    }\n",
       "</style>\n",
       "<table border=\"1\" class=\"dataframe\">\n",
       "  <thead>\n",
       "    <tr style=\"text-align: right;\">\n",
       "      <th></th>\n",
       "      <th>Survived</th>\n",
       "      <th>IsMale</th>\n",
       "      <th>Embarked_C</th>\n",
       "      <th>Embarked_Q</th>\n",
       "      <th>Embarked_S</th>\n",
       "      <th>Title_Master</th>\n",
       "      <th>Title_Miss</th>\n",
       "      <th>Title_Mr</th>\n",
       "      <th>Title_Mrs</th>\n",
       "      <th>Title_Rare</th>\n",
       "      <th>...</th>\n",
       "      <th>IsLargeFamily</th>\n",
       "      <th>Age_0</th>\n",
       "      <th>Age_1</th>\n",
       "      <th>Age_2</th>\n",
       "      <th>Age_3</th>\n",
       "      <th>Age_4</th>\n",
       "      <th>Fare_0</th>\n",
       "      <th>Fare_1</th>\n",
       "      <th>Fare_2</th>\n",
       "      <th>Fare_3</th>\n",
       "    </tr>\n",
       "    <tr>\n",
       "      <th>PassengerId</th>\n",
       "      <th></th>\n",
       "      <th></th>\n",
       "      <th></th>\n",
       "      <th></th>\n",
       "      <th></th>\n",
       "      <th></th>\n",
       "      <th></th>\n",
       "      <th></th>\n",
       "      <th></th>\n",
       "      <th></th>\n",
       "      <th></th>\n",
       "      <th></th>\n",
       "      <th></th>\n",
       "      <th></th>\n",
       "      <th></th>\n",
       "      <th></th>\n",
       "      <th></th>\n",
       "      <th></th>\n",
       "      <th></th>\n",
       "      <th></th>\n",
       "      <th></th>\n",
       "    </tr>\n",
       "  </thead>\n",
       "  <tbody>\n",
       "    <tr>\n",
       "      <th>1</th>\n",
       "      <td>0</td>\n",
       "      <td>1.0</td>\n",
       "      <td>0</td>\n",
       "      <td>0</td>\n",
       "      <td>1</td>\n",
       "      <td>0</td>\n",
       "      <td>0</td>\n",
       "      <td>1</td>\n",
       "      <td>0</td>\n",
       "      <td>0</td>\n",
       "      <td>...</td>\n",
       "      <td>0.0</td>\n",
       "      <td>0</td>\n",
       "      <td>1</td>\n",
       "      <td>0</td>\n",
       "      <td>0</td>\n",
       "      <td>0</td>\n",
       "      <td>1</td>\n",
       "      <td>0</td>\n",
       "      <td>0</td>\n",
       "      <td>0</td>\n",
       "    </tr>\n",
       "    <tr>\n",
       "      <th>2</th>\n",
       "      <td>1</td>\n",
       "      <td>0.0</td>\n",
       "      <td>1</td>\n",
       "      <td>0</td>\n",
       "      <td>0</td>\n",
       "      <td>0</td>\n",
       "      <td>0</td>\n",
       "      <td>0</td>\n",
       "      <td>1</td>\n",
       "      <td>0</td>\n",
       "      <td>...</td>\n",
       "      <td>0.0</td>\n",
       "      <td>0</td>\n",
       "      <td>0</td>\n",
       "      <td>1</td>\n",
       "      <td>0</td>\n",
       "      <td>0</td>\n",
       "      <td>0</td>\n",
       "      <td>0</td>\n",
       "      <td>0</td>\n",
       "      <td>1</td>\n",
       "    </tr>\n",
       "    <tr>\n",
       "      <th>3</th>\n",
       "      <td>1</td>\n",
       "      <td>0.0</td>\n",
       "      <td>0</td>\n",
       "      <td>0</td>\n",
       "      <td>1</td>\n",
       "      <td>0</td>\n",
       "      <td>1</td>\n",
       "      <td>0</td>\n",
       "      <td>0</td>\n",
       "      <td>0</td>\n",
       "      <td>...</td>\n",
       "      <td>0.0</td>\n",
       "      <td>0</td>\n",
       "      <td>1</td>\n",
       "      <td>0</td>\n",
       "      <td>0</td>\n",
       "      <td>0</td>\n",
       "      <td>0</td>\n",
       "      <td>1</td>\n",
       "      <td>0</td>\n",
       "      <td>0</td>\n",
       "    </tr>\n",
       "    <tr>\n",
       "      <th>4</th>\n",
       "      <td>1</td>\n",
       "      <td>0.0</td>\n",
       "      <td>0</td>\n",
       "      <td>0</td>\n",
       "      <td>1</td>\n",
       "      <td>0</td>\n",
       "      <td>0</td>\n",
       "      <td>0</td>\n",
       "      <td>1</td>\n",
       "      <td>0</td>\n",
       "      <td>...</td>\n",
       "      <td>0.0</td>\n",
       "      <td>0</td>\n",
       "      <td>0</td>\n",
       "      <td>1</td>\n",
       "      <td>0</td>\n",
       "      <td>0</td>\n",
       "      <td>0</td>\n",
       "      <td>0</td>\n",
       "      <td>0</td>\n",
       "      <td>1</td>\n",
       "    </tr>\n",
       "    <tr>\n",
       "      <th>5</th>\n",
       "      <td>0</td>\n",
       "      <td>1.0</td>\n",
       "      <td>0</td>\n",
       "      <td>0</td>\n",
       "      <td>1</td>\n",
       "      <td>0</td>\n",
       "      <td>0</td>\n",
       "      <td>1</td>\n",
       "      <td>0</td>\n",
       "      <td>0</td>\n",
       "      <td>...</td>\n",
       "      <td>0.0</td>\n",
       "      <td>0</td>\n",
       "      <td>0</td>\n",
       "      <td>1</td>\n",
       "      <td>0</td>\n",
       "      <td>0</td>\n",
       "      <td>0</td>\n",
       "      <td>1</td>\n",
       "      <td>0</td>\n",
       "      <td>0</td>\n",
       "    </tr>\n",
       "    <tr>\n",
       "      <th>6</th>\n",
       "      <td>0</td>\n",
       "      <td>1.0</td>\n",
       "      <td>0</td>\n",
       "      <td>1</td>\n",
       "      <td>0</td>\n",
       "      <td>0</td>\n",
       "      <td>0</td>\n",
       "      <td>1</td>\n",
       "      <td>0</td>\n",
       "      <td>0</td>\n",
       "      <td>...</td>\n",
       "      <td>0.0</td>\n",
       "      <td>0</td>\n",
       "      <td>0</td>\n",
       "      <td>1</td>\n",
       "      <td>0</td>\n",
       "      <td>0</td>\n",
       "      <td>0</td>\n",
       "      <td>1</td>\n",
       "      <td>0</td>\n",
       "      <td>0</td>\n",
       "    </tr>\n",
       "    <tr>\n",
       "      <th>7</th>\n",
       "      <td>0</td>\n",
       "      <td>1.0</td>\n",
       "      <td>0</td>\n",
       "      <td>0</td>\n",
       "      <td>1</td>\n",
       "      <td>0</td>\n",
       "      <td>0</td>\n",
       "      <td>1</td>\n",
       "      <td>0</td>\n",
       "      <td>0</td>\n",
       "      <td>...</td>\n",
       "      <td>0.0</td>\n",
       "      <td>0</td>\n",
       "      <td>0</td>\n",
       "      <td>0</td>\n",
       "      <td>1</td>\n",
       "      <td>0</td>\n",
       "      <td>0</td>\n",
       "      <td>0</td>\n",
       "      <td>0</td>\n",
       "      <td>1</td>\n",
       "    </tr>\n",
       "    <tr>\n",
       "      <th>8</th>\n",
       "      <td>0</td>\n",
       "      <td>1.0</td>\n",
       "      <td>0</td>\n",
       "      <td>0</td>\n",
       "      <td>1</td>\n",
       "      <td>1</td>\n",
       "      <td>0</td>\n",
       "      <td>0</td>\n",
       "      <td>0</td>\n",
       "      <td>0</td>\n",
       "      <td>...</td>\n",
       "      <td>1.0</td>\n",
       "      <td>1</td>\n",
       "      <td>0</td>\n",
       "      <td>0</td>\n",
       "      <td>0</td>\n",
       "      <td>0</td>\n",
       "      <td>0</td>\n",
       "      <td>0</td>\n",
       "      <td>1</td>\n",
       "      <td>0</td>\n",
       "    </tr>\n",
       "    <tr>\n",
       "      <th>9</th>\n",
       "      <td>1</td>\n",
       "      <td>0.0</td>\n",
       "      <td>0</td>\n",
       "      <td>0</td>\n",
       "      <td>1</td>\n",
       "      <td>0</td>\n",
       "      <td>0</td>\n",
       "      <td>0</td>\n",
       "      <td>1</td>\n",
       "      <td>0</td>\n",
       "      <td>...</td>\n",
       "      <td>0.0</td>\n",
       "      <td>0</td>\n",
       "      <td>1</td>\n",
       "      <td>0</td>\n",
       "      <td>0</td>\n",
       "      <td>0</td>\n",
       "      <td>0</td>\n",
       "      <td>1</td>\n",
       "      <td>0</td>\n",
       "      <td>0</td>\n",
       "    </tr>\n",
       "    <tr>\n",
       "      <th>10</th>\n",
       "      <td>1</td>\n",
       "      <td>0.0</td>\n",
       "      <td>1</td>\n",
       "      <td>0</td>\n",
       "      <td>0</td>\n",
       "      <td>0</td>\n",
       "      <td>0</td>\n",
       "      <td>0</td>\n",
       "      <td>1</td>\n",
       "      <td>0</td>\n",
       "      <td>...</td>\n",
       "      <td>0.0</td>\n",
       "      <td>1</td>\n",
       "      <td>0</td>\n",
       "      <td>0</td>\n",
       "      <td>0</td>\n",
       "      <td>0</td>\n",
       "      <td>0</td>\n",
       "      <td>0</td>\n",
       "      <td>1</td>\n",
       "      <td>0</td>\n",
       "    </tr>\n",
       "  </tbody>\n",
       "</table>\n",
       "<p>10 rows × 33 columns</p>\n",
       "</div>"
      ],
      "text/plain": [
       "             Survived  IsMale  Embarked_C  Embarked_Q  Embarked_S  \\\n",
       "PassengerId                                                         \n",
       "1                   0     1.0           0           0           1   \n",
       "2                   1     0.0           1           0           0   \n",
       "3                   1     0.0           0           0           1   \n",
       "4                   1     0.0           0           0           1   \n",
       "5                   0     1.0           0           0           1   \n",
       "6                   0     1.0           0           1           0   \n",
       "7                   0     1.0           0           0           1   \n",
       "8                   0     1.0           0           0           1   \n",
       "9                   1     0.0           0           0           1   \n",
       "10                  1     0.0           1           0           0   \n",
       "\n",
       "             Title_Master  Title_Miss  Title_Mr  Title_Mrs  Title_Rare  \\\n",
       "PassengerId                                                              \n",
       "1                       0           0         1          0           0   \n",
       "2                       0           0         0          1           0   \n",
       "3                       0           1         0          0           0   \n",
       "4                       0           0         0          1           0   \n",
       "5                       0           0         1          0           0   \n",
       "6                       0           0         1          0           0   \n",
       "7                       0           0         1          0           0   \n",
       "8                       1           0         0          0           0   \n",
       "9                       0           0         0          1           0   \n",
       "10                      0           0         0          1           0   \n",
       "\n",
       "              ...    IsLargeFamily  Age_0  Age_1  Age_2  Age_3  Age_4  Fare_0  \\\n",
       "PassengerId   ...                                                               \n",
       "1             ...              0.0      0      1      0      0      0       1   \n",
       "2             ...              0.0      0      0      1      0      0       0   \n",
       "3             ...              0.0      0      1      0      0      0       0   \n",
       "4             ...              0.0      0      0      1      0      0       0   \n",
       "5             ...              0.0      0      0      1      0      0       0   \n",
       "6             ...              0.0      0      0      1      0      0       0   \n",
       "7             ...              0.0      0      0      0      1      0       0   \n",
       "8             ...              1.0      1      0      0      0      0       0   \n",
       "9             ...              0.0      0      1      0      0      0       0   \n",
       "10            ...              0.0      1      0      0      0      0       0   \n",
       "\n",
       "             Fare_1  Fare_2  Fare_3  \n",
       "PassengerId                          \n",
       "1                 0       0       0  \n",
       "2                 0       0       1  \n",
       "3                 1       0       0  \n",
       "4                 0       0       1  \n",
       "5                 1       0       0  \n",
       "6                 1       0       0  \n",
       "7                 0       0       1  \n",
       "8                 0       1       0  \n",
       "9                 1       0       0  \n",
       "10                0       1       0  \n",
       "\n",
       "[10 rows x 33 columns]"
      ]
     },
     "execution_count": 781,
     "metadata": {},
     "output_type": "execute_result"
    }
   ],
   "source": [
    "train_transformed.head(10)"
   ]
  },
  {
   "cell_type": "code",
   "execution_count": 719,
   "metadata": {},
   "outputs": [],
   "source": [
    "X = train_transformed.drop('Survived', axis=1)\n",
    "y = train_transformed['Survived']"
   ]
  },
  {
   "cell_type": "code",
   "execution_count": 720,
   "metadata": {
    "scrolled": true
   },
   "outputs": [
    {
     "data": {
      "text/plain": [
       "Index(['IsMale', 'Embarked_C', 'Embarked_Q', 'Embarked_S', 'Title_Master',\n",
       "       'Title_Miss', 'Title_Mr', 'Title_Mrs', 'Title_Rare', 'Deck_A', 'Deck_B',\n",
       "       'Deck_C', 'Deck_D', 'Deck_E', 'Deck_F', 'Deck_G', 'Deck_U', 'Pclass_1',\n",
       "       'Pclass_2', 'Pclass_3', 'IsAlone', 'IsSmallFamily', 'IsLargeFamily',\n",
       "       'Age_0', 'Age_1', 'Age_2', 'Age_3', 'Age_4', 'Fare_0', 'Fare_1',\n",
       "       'Fare_2', 'Fare_3'],\n",
       "      dtype='object')"
      ]
     },
     "execution_count": 720,
     "metadata": {},
     "output_type": "execute_result"
    }
   ],
   "source": [
    "X.columns"
   ]
  },
  {
   "cell_type": "markdown",
   "metadata": {},
   "source": [
    "## Random Forest"
   ]
  },
  {
   "cell_type": "code",
   "execution_count": 775,
   "metadata": {},
   "outputs": [],
   "source": [
    "def random_forest_features(model, X):\n",
    "    importances = model.feature_importances_\n",
    "    std = np.std([model.feature_importances_ for tree in model.estimators_],\n",
    "                 axis=0)\n",
    "    indices = np.argsort(importances)[::-1]\n",
    "\n",
    "    plt.figure(figsize=(10, 10))\n",
    "    plt.title(\"Feature importances\")\n",
    "    plt.bar(range(X.shape[1]), importances[indices], color=\"r\", yerr=std[indices], align=\"center\")\n",
    "    plt.xticks(range(X.shape[1]), X.columns, rotation='vertical')\n",
    "    plt.xlim([-1, X.shape[1]])\n",
    "    plt.show()"
   ]
  },
  {
   "cell_type": "code",
   "execution_count": 776,
   "metadata": {},
   "outputs": [],
   "source": [
    "from sklearn.ensemble import RandomForestClassifier\n",
    "from sklearn.model_selection import train_test_split\n",
    "\n",
    "def evalutate_random_forest(X, y):\n",
    "    X_train, X_test, y_train, y_test = train_test_split(X, y, random_state=0, stratify=y)\n",
    "\n",
    "    model = RandomForestClassifier(random_state=0)\n",
    "    model.fit(X_train, y_train)\n",
    "\n",
    "    print(\"train score:\", model.score(X_train, y_train))\n",
    "    print(\"test score: \", model.score(X_test, y_test))\n",
    "    \n",
    "    random_forest_features(model, X)"
   ]
  },
  {
   "cell_type": "code",
   "execution_count": 777,
   "metadata": {},
   "outputs": [
    {
     "name": "stdout",
     "output_type": "stream",
     "text": [
      "train score: 0.910179640719\n",
      "test score:  0.807174887892\n"
     ]
    },
    {
     "data": {
      "image/png": "[encoded data removed]",
      "text/plain": [
       "<matplotlib.figure.Figure at 0x7f546d677400>"
      ]
     },
     "metadata": {},
     "output_type": "display_data"
    }
   ],
   "source": [
    "evalutate_random_forest(X, y)"
   ]
  },
  {
   "cell_type": "markdown",
   "metadata": {},
   "source": [
    "Виждаме, че основният фактор е полът, следван от мястото на качване и титлите. Интересно е, че палубата доста допринася за оценката.\n",
    "\n",
    "Скорът на тест сета обаче се смъкна доста. Нека се опитаме да намерим по-добри параметри."
   ]
  },
  {
   "cell_type": "code",
   "execution_count": 780,
   "metadata": {},
   "outputs": [
    {
     "data": {
      "text/html": [
       "<div>\n",
       "<style>\n",
       "    .dataframe thead tr:only-child th {\n",
       "        text-align: right;\n",
       "    }\n",
       "\n",
       "    .dataframe thead th {\n",
       "        text-align: left;\n",
       "    }\n",
       "\n",
       "    .dataframe tbody tr th {\n",
       "        vertical-align: top;\n",
       "    }\n",
       "</style>\n",
       "<table border=\"1\" class=\"dataframe\">\n",
       "  <thead>\n",
       "    <tr style=\"text-align: right;\">\n",
       "      <th></th>\n",
       "      <th>rank_test_score</th>\n",
       "      <th>mean_test_score</th>\n",
       "      <th>params</th>\n",
       "    </tr>\n",
       "  </thead>\n",
       "  <tbody>\n",
       "    <tr>\n",
       "      <th>69</th>\n",
       "      <td>1</td>\n",
       "      <td>0.824916</td>\n",
       "      <td>{'max_depth': 8, 'max_features': 'log2', 'min_samples_split': 20, 'n_estimators': 5}</td>\n",
       "    </tr>\n",
       "    <tr>\n",
       "      <th>57</th>\n",
       "      <td>1</td>\n",
       "      <td>0.824916</td>\n",
       "      <td>{'max_depth': 8, 'max_features': 'sqrt', 'min_samples_split': 20, 'n_estimators': 5}</td>\n",
       "    </tr>\n",
       "    <tr>\n",
       "      <th>36</th>\n",
       "      <td>1</td>\n",
       "      <td>0.824916</td>\n",
       "      <td>{'max_depth': 6, 'max_features': 'log2', 'min_samples_split': 2, 'n_estimators': 5}</td>\n",
       "    </tr>\n",
       "    <tr>\n",
       "      <th>24</th>\n",
       "      <td>1</td>\n",
       "      <td>0.824916</td>\n",
       "      <td>{'max_depth': 6, 'max_features': 'sqrt', 'min_samples_split': 2, 'n_estimators': 5}</td>\n",
       "    </tr>\n",
       "    <tr>\n",
       "      <th>26</th>\n",
       "      <td>5</td>\n",
       "      <td>0.823793</td>\n",
       "      <td>{'max_depth': 6, 'max_features': 'sqrt', 'min_samples_split': 2, 'n_estimators': 20}</td>\n",
       "    </tr>\n",
       "  </tbody>\n",
       "</table>\n",
       "</div>"
      ],
      "text/plain": [
       "    rank_test_score  mean_test_score  \\\n",
       "69                1         0.824916   \n",
       "57                1         0.824916   \n",
       "36                1         0.824916   \n",
       "24                1         0.824916   \n",
       "26                5         0.823793   \n",
       "\n",
       "                                                                                  params  \n",
       "69  {'max_depth': 8, 'max_features': 'log2', 'min_samples_split': 20, 'n_estimators': 5}  \n",
       "57  {'max_depth': 8, 'max_features': 'sqrt', 'min_samples_split': 20, 'n_estimators': 5}  \n",
       "36   {'max_depth': 6, 'max_features': 'log2', 'min_samples_split': 2, 'n_estimators': 5}  \n",
       "24   {'max_depth': 6, 'max_features': 'sqrt', 'min_samples_split': 2, 'n_estimators': 5}  \n",
       "26  {'max_depth': 6, 'max_features': 'sqrt', 'min_samples_split': 2, 'n_estimators': 20}  "
      ]
     },
     "execution_count": 780,
     "metadata": {},
     "output_type": "execute_result"
    }
   ],
   "source": [
    "from sklearn.model_selection import StratifiedKFold\n",
    "from sklearn.model_selection import GridSearchCV\n",
    "\n",
    "parameter_grid = {\n",
    "                 'max_depth' : [4, 6, 8],\n",
    "                 'n_estimators': [5, 10, 20],\n",
    "                 'max_features': ['sqrt', 'log2'],\n",
    "                 'min_samples_split': [2, 5, 10, 20]\n",
    "                 }\n",
    "\n",
    "forest = RandomForestClassifier(random_state=0, n_jobs=-1)\n",
    "\n",
    "grid_search = GridSearchCV(forest,\n",
    "                           scoring='accuracy',\n",
    "                           param_grid=parameter_grid,\n",
    "                           cv=5)\n",
    "\n",
    "grid_search.fit(X, y)\n",
    "\n",
    "pd.set_option('max_colwidth', 200)\n",
    "results_df = pd.DataFrame(grid_search.cv_results_)\n",
    "results_df[['rank_test_score', 'mean_test_score', 'params']].sort_values(by='rank_test_score').head(5)"
   ]
  },
  {
   "cell_type": "markdown",
   "metadata": {},
   "source": [
    "Намерихме {'max_depth': 8, 'max_features': 'log2', 'min_samples_split': 20, 'n_estimators': 5}.\n",
    "Тези хипер-параметри ми донесоха **0.79904** score на Leaderboard-а.\n",
    "\n",
    "След още малко играчка и хвърляне на боб, успях да намеря по-добри параметри, с които постигнах по-добър резултат.\n",
    "\n",
    "Параметрите са {'max_depth': 8, 'max_features': 'log2', 'min_samples_split': 20, 'n_estimators': 20} и резултата на Leaderboard-a е **0.81339**."
   ]
  },
  {
   "cell_type": "markdown",
   "metadata": {},
   "source": [
    "### Submission"
   ]
  },
  {
   "cell_type": "code",
   "execution_count": 786,
   "metadata": {},
   "outputs": [],
   "source": [
    "def prepare_submission(model, test_data, filename='submission.csv'):\n",
    "    predictions = model.predict(test_data)\n",
    "    frame = pd.DataFrame({\n",
    "        'PassengerId': pd.read_csv('data/titanic/test.csv').PassengerId,\n",
    "        'Survived': predictions\n",
    "    })\n",
    "    frame = frame.set_index('PassengerId')\n",
    "    frame.to_csv('data/titanic/{}'.format(filename))\n",
    "    print(frame.head())"
   ]
  },
  {
   "cell_type": "code",
   "execution_count": 787,
   "metadata": {},
   "outputs": [
    {
     "name": "stdout",
     "output_type": "stream",
     "text": [
      "             Survived\n",
      "PassengerId          \n",
      "892                 0\n",
      "893                 1\n",
      "894                 0\n",
      "895                 0\n",
      "896                 1\n"
     ]
    }
   ],
   "source": [
    "transformed_test_data = transform_data(test_data)\n",
    "params = {'max_depth': 8, 'max_features': 'log2', 'min_samples_split': 20, 'n_estimators': 20}\n",
    "\n",
    "model = RandomForestClassifier(random_state=0, **params)\n",
    "model.fit(X, y)\n",
    "\n",
    "prepare_submission(model, transformed_test_data, 'titanic_submission.csv')"
   ]
  },
  {
   "cell_type": "markdown",
   "metadata": {},
   "source": [
    "# Conclusion\n",
    "\n",
    "Успяхме да вдигнем малко резултата без да правим драматични промени по фийчъриите. Забелязах, че най-голям скок в score-a имах когато биннах годините и цената на билетите. Също така палубата играе по-голяма роля, отколкото очаквах.\n",
    "\n",
    "Ключовото в случая ми се струва, че беше напипването на правилните хипер-параметри на модела. Най-вероятно моят модел не генерализира достатъчно добре, затова не ми даде най-добрите параметри от Grid Search-a."
   ]
  }
 ],
 "metadata": {
  "kernelspec": {
   "display_name": "Python 3",
   "language": "python",
   "name": "python3"
  },
  "language_info": {
   "codemirror_mode": {
    "name": "ipython",
    "version": 3
   },
   "file_extension": ".py",
   "mimetype": "text/x-python",
   "name": "python",
   "nbconvert_exporter": "python",
   "pygments_lexer": "ipython3",
   "version": "3.6.3"
  }
 },
 "nbformat": 4,
 "nbformat_minor": 2
}
